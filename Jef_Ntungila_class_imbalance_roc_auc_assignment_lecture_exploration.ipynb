{
  "nbformat": 4,
  "nbformat_minor": 0,
  "metadata": {
    "colab": {
      "name": "Jef Ntungila class-imbalance-roc-auc assignment / lecture exploration.ipynb",
      "version": "0.3.2",
      "provenance": [],
      "include_colab_link": true
    },
    "kernelspec": {
      "name": "python3",
      "display_name": "Python 3"
    }
  },
  "cells": [
    {
      "cell_type": "markdown",
      "metadata": {
        "id": "view-in-github",
        "colab_type": "text"
      },
      "source": [
        "<a href=\"https://colab.research.google.com/github/JefNtungila/DS-Unit-2-Classification-2/blob/master/Jef_Ntungila_class_imbalance_roc_auc_assignment_lecture_exploration.ipynb\" target=\"_parent\"><img src=\"https://colab.research.google.com/assets/colab-badge.svg\" alt=\"Open In Colab\"/></a>"
      ]
    },
    {
      "cell_type": "code",
      "metadata": {
        "id": "ttRPUwHl9BZq",
        "colab_type": "code",
        "colab": {
          "base_uri": "https://localhost:8080/",
          "height": 269
        },
        "outputId": "20adf4f1-7639-49bc-cd69-5b599d9875dd"
      },
      "source": [
        "!pip install category_encoders #instanlling encoders"
      ],
      "execution_count": 1,
      "outputs": [
        {
          "output_type": "stream",
          "text": [
            "Collecting category_encoders\n",
            "\u001b[?25l  Downloading https://files.pythonhosted.org/packages/6e/a1/f7a22f144f33be78afeb06bfa78478e8284a64263a3c09b1ef54e673841e/category_encoders-2.0.0-py2.py3-none-any.whl (87kB)\n",
            "\u001b[K     |████████████████████████████████| 92kB 3.9MB/s \n",
            "\u001b[?25hRequirement already satisfied: pandas>=0.21.1 in /usr/local/lib/python3.6/dist-packages (from category_encoders) (0.24.2)\n",
            "Requirement already satisfied: statsmodels>=0.6.1 in /usr/local/lib/python3.6/dist-packages (from category_encoders) (0.9.0)\n",
            "Requirement already satisfied: numpy>=1.11.3 in /usr/local/lib/python3.6/dist-packages (from category_encoders) (1.16.4)\n",
            "Requirement already satisfied: scikit-learn>=0.20.0 in /usr/local/lib/python3.6/dist-packages (from category_encoders) (0.21.2)\n",
            "Requirement already satisfied: scipy>=0.19.0 in /usr/local/lib/python3.6/dist-packages (from category_encoders) (1.3.0)\n",
            "Requirement already satisfied: patsy>=0.4.1 in /usr/local/lib/python3.6/dist-packages (from category_encoders) (0.5.1)\n",
            "Requirement already satisfied: pytz>=2011k in /usr/local/lib/python3.6/dist-packages (from pandas>=0.21.1->category_encoders) (2018.9)\n",
            "Requirement already satisfied: python-dateutil>=2.5.0 in /usr/local/lib/python3.6/dist-packages (from pandas>=0.21.1->category_encoders) (2.5.3)\n",
            "Requirement already satisfied: joblib>=0.11 in /usr/local/lib/python3.6/dist-packages (from scikit-learn>=0.20.0->category_encoders) (0.13.2)\n",
            "Requirement already satisfied: six in /usr/local/lib/python3.6/dist-packages (from patsy>=0.4.1->category_encoders) (1.12.0)\n",
            "Installing collected packages: category-encoders\n",
            "Successfully installed category-encoders-2.0.0\n"
          ],
          "name": "stdout"
        }
      ]
    },
    {
      "cell_type": "code",
      "metadata": {
        "id": "vY64Qc799Jyu",
        "colab_type": "code",
        "colab": {}
      },
      "source": [
        "#importing data \n",
        "\n",
        "history_location = 'https://raw.githubusercontent.com/LambdaSchool/DS-Unit-2-Classification-2/master/data/lending-club-subset.csv'\n",
        "current_location = 'https://raw.githubusercontent.com/LambdaSchool/DS-Unit-2-Classification-2/master/data/primaryMarketNotes_browseNotes_1-RETAIL.csv'"
      ],
      "execution_count": 0,
      "outputs": []
    },
    {
      "cell_type": "code",
      "metadata": {
        "id": "6_HKqk0r9TK3",
        "colab_type": "code",
        "colab": {}
      },
      "source": [
        "import pandas as pd\n",
        "pd.options.display.max_columns = 200\n",
        "pd.options.display.max_rows = 200\n",
        "\n",
        "# Stratified sample, 10% of expired Lending Club loans, grades A-D\n",
        "# Source: https://www.lendingclub.com/info/download-data.action\n",
        "history = pd.read_csv(history_location)\n",
        "history['issue_d'] = pd.to_datetime(history['issue_d'], infer_datetime_format=True)\n",
        "\n",
        "# Current loans available for manual investing, June 17, 2019\n",
        "# Source: https://www.lendingclub.com/browse/browse.action\n",
        "current = pd.read_csv(current_location)"
      ],
      "execution_count": 0,
      "outputs": []
    },
    {
      "cell_type": "code",
      "metadata": {
        "id": "pxfEi0f99eCO",
        "colab_type": "code",
        "colab": {
          "base_uri": "https://localhost:8080/",
          "height": 136
        },
        "outputId": "b54403c9-1b5e-4c1b-cda2-1b46f0a83908"
      },
      "source": [
        "# Calculate percent of each loan repaid\n",
        "history['percent_paid'] = history['total_pymnt'] / history['funded_amnt']\n",
        "\n",
        "# See percent paid for charged off vs fully paid loans\n",
        "history.groupby('loan_status')['percent_paid'].describe()"
      ],
      "execution_count": 4,
      "outputs": [
        {
          "output_type": "execute_result",
          "data": {
            "text/html": [
              "<div>\n",
              "<style scoped>\n",
              "    .dataframe tbody tr th:only-of-type {\n",
              "        vertical-align: middle;\n",
              "    }\n",
              "\n",
              "    .dataframe tbody tr th {\n",
              "        vertical-align: top;\n",
              "    }\n",
              "\n",
              "    .dataframe thead th {\n",
              "        text-align: right;\n",
              "    }\n",
              "</style>\n",
              "<table border=\"1\" class=\"dataframe\">\n",
              "  <thead>\n",
              "    <tr style=\"text-align: right;\">\n",
              "      <th></th>\n",
              "      <th>count</th>\n",
              "      <th>mean</th>\n",
              "      <th>std</th>\n",
              "      <th>min</th>\n",
              "      <th>25%</th>\n",
              "      <th>50%</th>\n",
              "      <th>75%</th>\n",
              "      <th>max</th>\n",
              "    </tr>\n",
              "    <tr>\n",
              "      <th>loan_status</th>\n",
              "      <th></th>\n",
              "      <th></th>\n",
              "      <th></th>\n",
              "      <th></th>\n",
              "      <th></th>\n",
              "      <th></th>\n",
              "      <th></th>\n",
              "      <th></th>\n",
              "    </tr>\n",
              "  </thead>\n",
              "  <tbody>\n",
              "    <tr>\n",
              "      <th>Charged Off</th>\n",
              "      <td>22477.0</td>\n",
              "      <td>0.546541</td>\n",
              "      <td>0.278077</td>\n",
              "      <td>0.0</td>\n",
              "      <td>0.327761</td>\n",
              "      <td>0.514006</td>\n",
              "      <td>0.742090</td>\n",
              "      <td>1.490546</td>\n",
              "    </tr>\n",
              "    <tr>\n",
              "      <th>Fully Paid</th>\n",
              "      <td>105857.0</td>\n",
              "      <td>1.146904</td>\n",
              "      <td>0.089759</td>\n",
              "      <td>1.0</td>\n",
              "      <td>1.083836</td>\n",
              "      <td>1.132098</td>\n",
              "      <td>1.195798</td>\n",
              "      <td>1.623628</td>\n",
              "    </tr>\n",
              "  </tbody>\n",
              "</table>\n",
              "</div>"
            ],
            "text/plain": [
              "                count      mean       std  min       25%       50%       75%  \\\n",
              "loan_status                                                                    \n",
              "Charged Off   22477.0  0.546541  0.278077  0.0  0.327761  0.514006  0.742090   \n",
              "Fully Paid   105857.0  1.146904  0.089759  1.0  1.083836  1.132098  1.195798   \n",
              "\n",
              "                  max  \n",
              "loan_status            \n",
              "Charged Off  1.490546  \n",
              "Fully Paid   1.623628  "
            ]
          },
          "metadata": {
            "tags": []
          },
          "execution_count": 4
        }
      ]
    },
    {
      "cell_type": "code",
      "metadata": {
        "id": "vuL1FC7U9vp6",
        "colab_type": "code",
        "colab": {}
      },
      "source": [
        "#we explore some baselines using a monte carlo approach"
      ],
      "execution_count": 0,
      "outputs": []
    },
    {
      "cell_type": "code",
      "metadata": {
        "id": "8cA4LyQe96Zm",
        "colab_type": "code",
        "colab": {}
      },
      "source": [
        "# Transform earliest_cr_line to an integer:\n",
        "# How many days the earliest credit line was open, before the loan was issued.\n",
        "# For current loans available for manual investing, assume the loan will be issued today.\n",
        "\n",
        "history['earliest_cr_line'] = pd.to_datetime(history['earliest_cr_line'], infer_datetime_format=True)\n",
        "history['earliest_cr_line'] = history['issue_d'] - history['earliest_cr_line']\n",
        "history['earliest_cr_line'] = history['earliest_cr_line'].dt.days\n",
        "\n",
        "current['earliest_cr_line'] = pd.to_datetime(current['earliest_cr_line'], infer_datetime_format=True)\n",
        "current['earliest_cr_line'] = pd.Timestamp.today() - current['earliest_cr_line']\n",
        "current['earliest_cr_line'] = current['earliest_cr_line'].dt.days"
      ],
      "execution_count": 0,
      "outputs": []
    },
    {
      "cell_type": "code",
      "metadata": {
        "id": "0PRP31gT-DyU",
        "colab_type": "code",
        "colab": {}
      },
      "source": [
        "# Use Python sets to compare the historical columns & current columns\n",
        "\n",
        "common_columns = set(history.columns) & set(current.columns)\n",
        "just_history = set(history.columns) - set(current.columns)\n",
        "just_current = set(current.columns) - set(history.columns)"
      ],
      "execution_count": 0,
      "outputs": []
    },
    {
      "cell_type": "code",
      "metadata": {
        "id": "vw2F7Vwv-KzB",
        "colab_type": "code",
        "colab": {}
      },
      "source": [
        "# Train on the historical data.\n",
        "# For features, use only the common columns shared by the historical & current data.\n",
        "# For the target, use `loan_status` ('Fully Paid' or 'Charged Off')\n",
        "\n",
        "features = list(common_columns)\n",
        "target = 'loan_status'\n",
        "X = history[features]\n",
        "y = history[target]"
      ],
      "execution_count": 0,
      "outputs": []
    },
    {
      "cell_type": "code",
      "metadata": {
        "id": "gXhdAtdJ-T89",
        "colab_type": "code",
        "colab": {
          "base_uri": "https://localhost:8080/",
          "height": 118
        },
        "outputId": "3bc126c9-f564-40f1-c6e7-0972c68410d9"
      },
      "source": [
        "# Do train/validate/test 3-way split\n",
        "\n",
        "from sklearn.model_selection import train_test_split\n",
        "\n",
        "X_trainval, X_test, y_trainval, y_test = train_test_split(\n",
        "    X, y, test_size=20000, stratify=y, random_state=42)\n",
        "\n",
        "X_train, X_val, y_train, y_val = train_test_split(\n",
        "    X_trainval, y_trainval, test_size=20000, \n",
        "    stratify=y_trainval, random_state=42)\n",
        "\n",
        "print('X_train shape', X_train.shape)\n",
        "print('y_train shape', y_train.shape)\n",
        "print('X_val shape', X_val.shape)\n",
        "print('y_val shape', y_val.shape)\n",
        "print('X_test shape', X_test.shape)\n",
        "print('y_test shape', y_test.shape)"
      ],
      "execution_count": 9,
      "outputs": [
        {
          "output_type": "stream",
          "text": [
            "X_train shape (88334, 106)\n",
            "y_train shape (88334,)\n",
            "X_val shape (20000, 106)\n",
            "y_val shape (20000,)\n",
            "X_test shape (20000, 106)\n",
            "y_test shape (20000,)\n"
          ],
          "name": "stdout"
        }
      ]
    },
    {
      "cell_type": "code",
      "metadata": {
        "id": "Z44ctR12-Y5Z",
        "colab_type": "code",
        "colab": {
          "base_uri": "https://localhost:8080/",
          "height": 50
        },
        "outputId": "2a463e9d-fe4a-4883-fb92-db51a63f71b5"
      },
      "source": [
        "%%time\n",
        "\n",
        "def wrangle(X):\n",
        "    X = X.copy()\n",
        "\n",
        "    # Convert percentages from strings to floats\n",
        "    X['int_rate'] = X['int_rate'].str.strip('%').astype(float)\n",
        "    X['revol_util'] = X['revol_util'].str.strip('%').astype(float)\n",
        "        \n",
        "    # Create features for three employee titles: teacher, manager, owner\n",
        "    X['emp_title'] = X['emp_title'].str.lower()\n",
        "    X['emp_title_teacher'] = X['emp_title'].str.contains('teacher', na=False)\n",
        "    X['emp_title_manager'] = X['emp_title'].str.contains('manager', na=False)\n",
        "    X['emp_title_owner']   = X['emp_title'].str.contains('owner', na=False)\n",
        "\n",
        "    # Transform features with many nulls to binary flags\n",
        "    many_nulls = ['member_id', 'sec_app_mths_since_last_major_derog', 'sec_app_revol_util', \n",
        "                  'sec_app_open_act_il', 'sec_app_chargeoff_within_12_mths', 'sec_app_mort_acc', \n",
        "                  'sec_app_fico_range_high', 'revol_bal_joint', 'sec_app_collections_12_mths_ex_med', \n",
        "                  'sec_app_inq_last_6mths', 'sec_app_num_rev_accts', 'sec_app_open_acc', \n",
        "                  'sec_app_earliest_cr_line', 'sec_app_fico_range_low', 'annual_inc_joint', \n",
        "                  'dti_joint', 'desc', 'mths_since_last_record', 'mths_since_recent_bc_dlq', \n",
        "                  'mths_since_last_major_derog', 'mths_since_recent_revol_delinq', 'il_util', \n",
        "                  'mths_since_rcnt_il', 'all_util', 'open_il_12m', 'total_bal_il', 'open_il_24m', \n",
        "                  'inq_last_12m', 'open_rv_12m', 'max_bal_bc', 'open_act_il', 'open_rv_24m', 'inq_fi', \n",
        "                  'open_acc_6m', 'total_cu_tl', 'mths_since_last_delinq', 'mths_since_recent_inq', \n",
        "                  'num_tl_120dpd_2m', 'mo_sin_old_il_acct', 'emp_title', 'emp_length', 'pct_tl_nvr_dlq', \n",
        "                  'avg_cur_bal', 'mo_sin_rcnt_rev_tl_op', 'num_actv_bc_tl', 'num_il_tl', \n",
        "                  'mo_sin_rcnt_tl', 'total_rev_hi_lim', 'tot_cur_bal', 'num_bc_tl', 'num_tl_30dpd', \n",
        "                  'num_op_rev_tl', 'mo_sin_old_rev_tl_op', 'total_il_high_credit_limit', \n",
        "                  'num_rev_tl_bal_gt_0', 'num_accts_ever_120_pd', 'num_tl_90g_dpd_24m', \n",
        "                  'num_tl_op_past_12m', 'num_rev_accts', 'tot_hi_cred_lim', 'tot_coll_amt', \n",
        "                  'num_actv_rev_tl', 'bc_util', 'percent_bc_gt_75', 'bc_open_to_buy', \n",
        "                  'mths_since_recent_bc', 'num_bc_sats', 'num_sats', 'total_bc_limit', \n",
        "                  'acc_open_past_24mths', 'total_bal_ex_mort', 'mort_acc', 'title']\n",
        "    \n",
        "    for col in many_nulls:\n",
        "        X[col] = X[col].isnull()\n",
        "    \n",
        "    # For features with few nulls, do mean imputation\n",
        "    for col in X:\n",
        "        if X[col].isnull().sum() > 0:\n",
        "            X[col] = X[col].fillna(X[col].mean())\n",
        "            \n",
        "    # Drop some columns\n",
        "    X = X.drop(columns='id')  # id is random\n",
        "    X = X.drop(columns='member_id')  # member_id is always null\n",
        "    X = X.drop(columns='title')  # Duplicative of purpose\n",
        "    X = X.drop(columns='grade')  # Duplicative of sub_grade\n",
        "    X = X.drop(columns='zip_code') # High cardinality\n",
        "\n",
        "    # Transform sub_grade from \"A1\" - \"G5\" to 1.1 - 7.5\n",
        "    def wrangle_sub_grade(x):\n",
        "        first_digit = ord(x[0]) - 64\n",
        "        second_digit = int(x[1])\n",
        "        return first_digit + second_digit/10\n",
        "    \n",
        "    X['sub_grade'] = X['sub_grade'].apply(wrangle_sub_grade)\n",
        "    \n",
        "    # Return the wrangled dataframe\n",
        "    return X\n",
        "\n",
        "\n",
        "X_train = wrangle(X_train)\n",
        "X_val   = wrangle(X_val)\n",
        "X_test  = wrangle(X_test)"
      ],
      "execution_count": 10,
      "outputs": [
        {
          "output_type": "stream",
          "text": [
            "CPU times: user 3 s, sys: 149 ms, total: 3.15 s\n",
            "Wall time: 3.15 s\n"
          ],
          "name": "stdout"
        }
      ]
    },
    {
      "cell_type": "code",
      "metadata": {
        "id": "GWa2DBwp_MUK",
        "colab_type": "code",
        "colab": {
          "base_uri": "https://localhost:8080/",
          "height": 50
        },
        "outputId": "b6e9ca12-7ab6-420e-f000-26edc8d3d544"
      },
      "source": [
        "%%time\n",
        "import category_encoders as ce\n",
        "from sklearn.ensemble import RandomForestClassifier\n",
        "from sklearn.pipeline import make_pipeline\n",
        "\n",
        "pipeline = make_pipeline(\n",
        "    ce.OrdinalEncoder(), \n",
        "    RandomForestClassifier(n_estimators=100, n_jobs=-1, random_state=42)\n",
        ")\n",
        "\n",
        "pipeline.fit(X_train, y_train)"
      ],
      "execution_count": 12,
      "outputs": [
        {
          "output_type": "stream",
          "text": [
            "CPU times: user 44.6 s, sys: 183 ms, total: 44.8 s\n",
            "Wall time: 23.6 s\n"
          ],
          "name": "stdout"
        }
      ]
    },
    {
      "cell_type": "code",
      "metadata": {
        "id": "ItxqL0Iw-5WG",
        "colab_type": "code",
        "colab": {
          "base_uri": "https://localhost:8080/",
          "height": 34
        },
        "outputId": "cdce8bc9-8c25-4d92-aa81-e2c491d4a09b"
      },
      "source": [
        "import numpy as np\n",
        "from sklearn.metrics import accuracy_score \n",
        "\n",
        "y_pred = pipeline.predict(X_val)\n",
        "accuracy_score(y_val, y_pred)"
      ],
      "execution_count": 14,
      "outputs": [
        {
          "output_type": "execute_result",
          "data": {
            "text/plain": [
              "0.8242"
            ]
          },
          "metadata": {
            "tags": []
          },
          "execution_count": 14
        }
      ]
    },
    {
      "cell_type": "code",
      "metadata": {
        "id": "AGj3Z2v0_5Tf",
        "colab_type": "code",
        "colab": {
          "base_uri": "https://localhost:8080/",
          "height": 34
        },
        "outputId": "d975ce21-deff-4ff0-b360-822eeba41500"
      },
      "source": [
        "from sklearn.metrics import roc_auc_score\n",
        "\n",
        "y_pred_proba = pipeline.predict_proba(X_val)[:, 1]\n",
        "roc_auc_score(y_val, y_pred_proba)"
      ],
      "execution_count": 15,
      "outputs": [
        {
          "output_type": "execute_result",
          "data": {
            "text/plain": [
              "0.6837494792044388"
            ]
          },
          "metadata": {
            "tags": []
          },
          "execution_count": 15
        }
      ]
    }
  ]
}