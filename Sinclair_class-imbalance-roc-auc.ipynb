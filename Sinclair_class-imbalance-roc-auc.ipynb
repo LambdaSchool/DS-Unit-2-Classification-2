{
 "cells": [
  {
   "cell_type": "markdown",
   "metadata": {},
   "source": [
    "_Lambda School Data Science — Classification 2_ \n",
    "\n",
    "\n",
    "\n",
    "# Class Imbalance, ROC AUC\n",
    "\n",
    "### Objectives \n",
    "- Understand why accuracy is a misleading metric when classes are imbalanced\n",
    "- Use classification metric: ROC AUC\n",
    "- Visualize the ROC curve by plotting true positive rate vs false positive rate at varying thresholds\n",
    "- Use the class_weight parameter in scikit-learn\n",
    "\n",
    "### Libraries\n",
    "\n",
    "#### category_encoders\n",
    "- Local Anaconda: `conda install -c conda-forge category_encoders`\n",
    "- Google Colab: `pip install category_encoders`\n",
    "\n",
    "#### [mlxtend](http://rasbt.github.io/mlxtend/) (to plot decision regions)\n",
    "- Local Anaconda: `conda install -c conda-forge mlxtend`\n",
    "- Google Colab: Already installed\n",
    "\n",
    "#### [tqdm](https://tqdm.github.io/) (for progress bars)\n",
    "- Local Anaconda: `conda install -c conda-forge tqdm`\n",
    "- Google Colab: Already installed"
   ]
  },
  {
   "cell_type": "markdown",
   "metadata": {},
   "source": [
    "## Lending Club Review 🏦\n",
    "\n",
    "This sprint, your project is with Lending Club data, historical and current. Predict if peer-to-peer loans are charged off or fully paid. Decide which loans to invest in.\n",
    "\n",
    "#### Background\n",
    "\n",
    "[According to Wikipedia,](https://en.wikipedia.org/wiki/Lending_Club)\n",
    "\n",
    "> Lending Club is the world's largest peer-to-peer lending platform. Lending Club enables borrowers to create unsecured personal loans between \\\\$1,000 and \\\\$40,000. The standard loan period is three years. **Investors can search and browse the loan listings on Lending Club website and select loans that they want to invest in based on the information supplied about the borrower, amount of loan, loan grade, and loan purpose.** Investors make money from interest. Lending Club makes money by charging borrowers an origination fee and investors a service fee.\n",
    "\n",
    "Lending Club's article about [Benefits of diversification](https://www.lendingclub.com/investing/investor-education/benefits-of-diversification) explains,\n",
    "\n",
    "> **With the investment minimum of \\\\$1,000, you can get up to 40 Notes at \\\\$25 each.**\n",
    "\n",
    "You can read more good context in [Data-Driven Investment Strategies for Peer-to-Peer Lending: A Case Study for Teaching Data Science](https://www.liebertpub.com/doi/full/10.1089/big.2018.0092):\n",
    "\n",
    "> Current refers to a loan that is still being reimbursed in a timely manner. Late corresponds to a loan on which a payment is between 16 and 120 days overdue. If the payment is delayed by more than 121 days, the loan is considered to be in Default. If LendingClub has decided that the loan will not be paid off, then it is given the status of Charged-Off.\n",
    "\n",
    "> These dynamics imply that 5 months after the term of each loan has ended, every loan ends in one of two LendingClub states—fully paid or charged-off. We call these two statuses fully paid and defaulted, respectively, and we refer to a loan that has reached one of these statuses as expired. **One way to simplify the problem is to consider only loans that have expired at the time of analysis.**\n",
    "\n",
    "> A significant portion (13.5%) of loans ended in Default status; depending on how much of the loan was paid back, these loans\n",
    "might have resulted in a significant loss to investors who had invested in them. The remainder was Fully Paid—the borrower fully reimbursed the loan’s outstanding balance with interest, and the investor earned a positive return on his or her investment. Therefore, to avoid unsuccessful investments, **our goal is to estimate which loans are more likely to default and which will yield low returns.**"
   ]
  },
  {
   "cell_type": "code",
   "execution_count": 73,
   "metadata": {},
   "outputs": [],
   "source": [
    "history_location = '../lending_club_data/historical.csv'\n",
    "current_location = '../lending_club_data/primaryMarketNotes_browseNotes_1-RETAIL.csv'\n",
    "\n",
    "# # For Google Colab, uncomment:\n",
    "# history_location = 'https://raw.githubusercontent.com/LambdaSchool/DS-Unit-2-Classification-2/master/data/lending-club-subset.csv'\n",
    "# current_location = 'https://raw.githubusercontent.com/LambdaSchool/DS-Unit-2-Classification-2/master/data/primaryMarketNotes_browseNotes_1-RETAIL.csv'"
   ]
  },
  {
   "cell_type": "code",
   "execution_count": 74,
   "metadata": {},
   "outputs": [],
   "source": [
    "import pandas as pd\n",
    "pd.options.display.max_columns = 200\n",
    "pd.options.display.max_rows = 200\n",
    "\n",
    "# Stratified sample, 10% of expired Lending Club loans, grades A-D\n",
    "# Source: https://www.lendingclub.com/info/download-data.action\n",
    "history = pd.read_csv(history_location)\n",
    "history['issue_d'] = pd.to_datetime(history['issue_d'], infer_datetime_format=True)\n",
    "\n",
    "# Current loans available for manual investing, June 17, 2019\n",
    "# Source: https://www.lendingclub.com/browse/browse.action\n",
    "current = pd.read_csv(current_location)"
   ]
  },
  {
   "cell_type": "code",
   "execution_count": 75,
   "metadata": {},
   "outputs": [
    {
     "data": {
      "text/plain": [
       "(128334, 144)"
      ]
     },
     "execution_count": 75,
     "metadata": {},
     "output_type": "execute_result"
    }
   ],
   "source": [
    "history.shape"
   ]
  },
  {
   "cell_type": "code",
   "execution_count": 76,
   "metadata": {},
   "outputs": [
    {
     "data": {
      "text/html": [
       "<div>\n",
       "<style scoped>\n",
       "    .dataframe tbody tr th:only-of-type {\n",
       "        vertical-align: middle;\n",
       "    }\n",
       "\n",
       "    .dataframe tbody tr th {\n",
       "        vertical-align: top;\n",
       "    }\n",
       "\n",
       "    .dataframe thead th {\n",
       "        text-align: right;\n",
       "    }\n",
       "</style>\n",
       "<table border=\"1\" class=\"dataframe\">\n",
       "  <thead>\n",
       "    <tr style=\"text-align: right;\">\n",
       "      <th></th>\n",
       "      <th>count</th>\n",
       "      <th>mean</th>\n",
       "      <th>std</th>\n",
       "      <th>min</th>\n",
       "      <th>25%</th>\n",
       "      <th>50%</th>\n",
       "      <th>75%</th>\n",
       "      <th>max</th>\n",
       "    </tr>\n",
       "    <tr>\n",
       "      <th>loan_status</th>\n",
       "      <th></th>\n",
       "      <th></th>\n",
       "      <th></th>\n",
       "      <th></th>\n",
       "      <th></th>\n",
       "      <th></th>\n",
       "      <th></th>\n",
       "      <th></th>\n",
       "    </tr>\n",
       "  </thead>\n",
       "  <tbody>\n",
       "    <tr>\n",
       "      <th>Charged Off</th>\n",
       "      <td>22477.0</td>\n",
       "      <td>0.547118</td>\n",
       "      <td>0.278518</td>\n",
       "      <td>0.0</td>\n",
       "      <td>0.328983</td>\n",
       "      <td>0.512771</td>\n",
       "      <td>0.747329</td>\n",
       "      <td>1.519576</td>\n",
       "    </tr>\n",
       "    <tr>\n",
       "      <th>Fully Paid</th>\n",
       "      <td>105857.0</td>\n",
       "      <td>1.146913</td>\n",
       "      <td>0.089697</td>\n",
       "      <td>1.0</td>\n",
       "      <td>1.083836</td>\n",
       "      <td>1.132301</td>\n",
       "      <td>1.196068</td>\n",
       "      <td>1.632823</td>\n",
       "    </tr>\n",
       "  </tbody>\n",
       "</table>\n",
       "</div>"
      ],
      "text/plain": [
       "                count      mean       std  min       25%       50%       75%  \\\n",
       "loan_status                                                                    \n",
       "Charged Off   22477.0  0.547118  0.278518  0.0  0.328983  0.512771  0.747329   \n",
       "Fully Paid   105857.0  1.146913  0.089697  1.0  1.083836  1.132301  1.196068   \n",
       "\n",
       "                  max  \n",
       "loan_status            \n",
       "Charged Off  1.519576  \n",
       "Fully Paid   1.632823  "
      ]
     },
     "execution_count": 76,
     "metadata": {},
     "output_type": "execute_result"
    }
   ],
   "source": [
    "# Calculate percent of each loan repaid\n",
    "history['percent_paid'] = history['total_pymnt'] / history['funded_amnt']\n",
    "\n",
    "# See percent paid for charged off vs fully paid loans\n",
    "history.groupby('loan_status')['percent_paid'].describe()"
   ]
  },
  {
   "cell_type": "markdown",
   "metadata": {},
   "source": [
    "### Begin with baselines: expected value of random decisions"
   ]
  },
  {
   "cell_type": "code",
   "execution_count": 77,
   "metadata": {},
   "outputs": [
    {
     "data": {
      "application/vnd.jupyter.widget-view+json": {
       "model_id": "8c07eb0cf13b475b8c9fa28993d7e78e",
       "version_major": 2,
       "version_minor": 0
      },
      "text/plain": [
       "HBox(children=(IntProgress(value=0, max=10000), HTML(value='')))"
      ]
     },
     "metadata": {},
     "output_type": "display_data"
    },
    {
     "name": "stdout",
     "output_type": "stream",
     "text": [
      "\n"
     ]
    },
    {
     "data": {
      "image/png": "[encoded data removed]",
      "text/plain": [
       "<Figure size 432x288 with 1 Axes>"
      ]
     },
     "metadata": {
      "needs_background": "light"
     },
     "output_type": "display_data"
    }
   ],
   "source": [
    "%matplotlib inline\n",
    "import matplotlib.pyplot as plt\n",
    "from scipy.stats import percentileofscore\n",
    "import seaborn as sns\n",
    "from tqdm import tnrange\n",
    "\n",
    "def simulate(n=10000, grades=['A','B','C','D'], \n",
    "             start_date='2007-07-01', \n",
    "             end_date='2019-03-01'):\n",
    "    \"\"\"\n",
    "    What if you picked 40 random loans for $25 investments?\n",
    "    How much would you have been paid back?\n",
    "    \n",
    "    Repeat the simulation many times, and plot the distribution \n",
    "    of probable outcomes.\n",
    "    \n",
    "    This doesn't consider fees or \"time value of money.\"\n",
    "    \"\"\"\n",
    "    \n",
    "    condition = ((history['grade'].isin(grades)) & \n",
    "                 (history['issue_d'] >= start_date) &\n",
    "                 (history['issue_d'] <= end_date))\n",
    "    possible = history[condition]\n",
    "    \n",
    "    simulations = []\n",
    "    for _ in tnrange(n):\n",
    "        picks = possible.sample(40).copy()\n",
    "        picks['paid'] = 25 * picks['percent_paid']\n",
    "        paid = picks['paid'].sum()\n",
    "        simulations.append(paid)\n",
    "        \n",
    "    simulations = pd.Series(simulations)\n",
    "    sns.distplot(simulations)\n",
    "    plt.axvline(x=1000)\n",
    "    percent = percentileofscore(simulations, 1000)\n",
    "    plt.title(f'{percent}% of simulations did not profit. {start_date}-{end_date}, {grades}')\n",
    "\n",
    "simulate()"
   ]
  },
  {
   "cell_type": "code",
   "execution_count": 6,
   "metadata": {},
   "outputs": [
    {
     "data": {
      "application/vnd.jupyter.widget-view+json": {
       "model_id": "f7547127500f423794549d5cfe4e99ff",
       "version_major": 2,
       "version_minor": 0
      },
      "text/plain": [
       "HBox(children=(IntProgress(value=0, max=10000), HTML(value='')))"
      ]
     },
     "metadata": {},
     "output_type": "display_data"
    },
    {
     "name": "stdout",
     "output_type": "stream",
     "text": [
      "\n"
     ]
    },
    {
     "data": {
      "image/png": "[encoded data removed]",
      "text/plain": [
       "<Figure size 432x288 with 1 Axes>"
      ]
     },
     "metadata": {
      "needs_background": "light"
     },
     "output_type": "display_data"
    }
   ],
   "source": [
    "simulate(grades=['A'])"
   ]
  },
  {
   "cell_type": "code",
   "execution_count": 7,
   "metadata": {},
   "outputs": [
    {
     "data": {
      "application/vnd.jupyter.widget-view+json": {
       "model_id": "67c99ed0280e45d8845e365692806320",
       "version_major": 2,
       "version_minor": 0
      },
      "text/plain": [
       "HBox(children=(IntProgress(value=0, max=10000), HTML(value='')))"
      ]
     },
     "metadata": {},
     "output_type": "display_data"
    },
    {
     "name": "stdout",
     "output_type": "stream",
     "text": [
      "\n"
     ]
    },
    {
     "data": {
      "image/png": "[encoded data removed]",
      "text/plain": [
       "<Figure size 432x288 with 1 Axes>"
      ]
     },
     "metadata": {
      "needs_background": "light"
     },
     "output_type": "display_data"
    }
   ],
   "source": [
    "simulate(grades=['D'])"
   ]
  },
  {
   "cell_type": "markdown",
   "metadata": {},
   "source": [
    "### Remove features to avoid leakage"
   ]
  },
  {
   "cell_type": "code",
   "execution_count": 78,
   "metadata": {},
   "outputs": [],
   "source": [
    "# Transform earliest_cr_line to an integer:\n",
    "# How many days the earliest credit line was open, before the loan was issued.\n",
    "# For current loans available for manual investing, assume the loan will be issued today.\n",
    "\n",
    "history['earliest_cr_line'] = pd.to_datetime(history['earliest_cr_line'], infer_datetime_format=True)\n",
    "history['earliest_cr_line'] = history['issue_d'] - history['earliest_cr_line']\n",
    "history['earliest_cr_line'] = history['earliest_cr_line'].dt.days\n",
    "\n",
    "current['earliest_cr_line'] = pd.to_datetime(current['earliest_cr_line'], infer_datetime_format=True)\n",
    "current['earliest_cr_line'] = pd.Timestamp.today() - current['earliest_cr_line']\n",
    "current['earliest_cr_line'] = current['earliest_cr_line'].dt.days"
   ]
  },
  {
   "cell_type": "code",
   "execution_count": 79,
   "metadata": {},
   "outputs": [],
   "source": [
    "# Use Python sets to compare the historical columns & current columns\n",
    "\n",
    "common_columns = set(history.columns) & set(current.columns)\n",
    "just_history = set(history.columns) - set(current.columns)\n",
    "just_current = set(current.columns) - set(history.columns)"
   ]
  },
  {
   "cell_type": "code",
   "execution_count": 114,
   "metadata": {},
   "outputs": [],
   "source": [
    "# Train on the historical data.\n",
    "# For features, use only the common columns shared by the historical & current data.\n",
    "# For the target, use `loan_status` ('Fully Paid' or 'Charged Off')\n",
    "\n",
    "features = list(common_columns)\n",
    "target = 'loan_status'\n",
    "X = history[features]\n",
    "y = history[target]"
   ]
  },
  {
   "cell_type": "code",
   "execution_count": 115,
   "metadata": {},
   "outputs": [
    {
     "data": {
      "text/plain": [
       "((128334, 102), (128334,))"
      ]
     },
     "execution_count": 115,
     "metadata": {},
     "output_type": "execute_result"
    }
   ],
   "source": [
    "X.shape, y.shape"
   ]
  },
  {
   "cell_type": "code",
   "execution_count": 116,
   "metadata": {},
   "outputs": [
    {
     "name": "stdout",
     "output_type": "stream",
     "text": [
      "X_train shape (88334, 102)\n",
      "y_train shape (88334,)\n",
      "X_val shape (20000, 102)\n",
      "y_val shape (20000,)\n",
      "X_test shape (20000, 102)\n",
      "y_test shape (20000,)\n"
     ]
    }
   ],
   "source": [
    "# Do train/validate/test 3-way split\n",
    "\n",
    "from sklearn.model_selection import train_test_split\n",
    "\n",
    "X_trainval, X_test, y_trainval, y_test = train_test_split(\n",
    "    X, y, test_size=20000, stratify=y, random_state=42)\n",
    "\n",
    "X_train, X_val, y_train, y_val = train_test_split(\n",
    "    X_trainval, y_trainval, test_size=20000, \n",
    "    stratify=y_trainval, random_state=42)\n",
    "\n",
    "print('X_train shape', X_train.shape)\n",
    "print('y_train shape', y_train.shape)\n",
    "print('X_val shape', X_val.shape)\n",
    "print('y_val shape', y_val.shape)\n",
    "print('X_test shape', X_test.shape)\n",
    "print('y_test shape', y_test.shape)"
   ]
  },
  {
   "cell_type": "markdown",
   "metadata": {},
   "source": [
    "## Understand why accuracy is a misleading metric when classes are imbalanced"
   ]
  },
  {
   "cell_type": "markdown",
   "metadata": {},
   "source": [
    "### Get accuracy score for majority class baseline"
   ]
  },
  {
   "cell_type": "code",
   "execution_count": 83,
   "metadata": {},
   "outputs": [
    {
     "data": {
      "text/plain": [
       "Fully Paid     0.824858\n",
       "Charged Off    0.175142\n",
       "Name: loan_status, dtype: float64"
      ]
     },
     "execution_count": 83,
     "metadata": {},
     "output_type": "execute_result"
    }
   ],
   "source": [
    "y_train.value_counts(normalize=True)"
   ]
  },
  {
   "cell_type": "code",
   "execution_count": 84,
   "metadata": {},
   "outputs": [
    {
     "data": {
      "text/plain": [
       "0.82485"
      ]
     },
     "execution_count": 84,
     "metadata": {},
     "output_type": "execute_result"
    }
   ],
   "source": [
    "import numpy as np\n",
    "from sklearn.metrics import accuracy_score\n",
    "majority_class = y_train.mode()[0]\n",
    "y_pred = np.full_like(y_val, fill_value=majority_class)\n",
    "accuracy_score(y_val, y_pred)"
   ]
  },
  {
   "cell_type": "markdown",
   "metadata": {},
   "source": [
    "### Get confusion matrix for majority class baseline"
   ]
  },
  {
   "cell_type": "code",
   "execution_count": 85,
   "metadata": {},
   "outputs": [],
   "source": [
    "from sklearn.metrics import confusion_matrix\n",
    "from sklearn.utils.multiclass import unique_labels\n",
    "\n",
    "def plot_confusion_matrix(y_true, y_pred):\n",
    "    labels = unique_labels(y_true)\n",
    "    columns = [f'Predicted {label}' for label in labels]\n",
    "    index = [f'Actual {label}' for label in labels]\n",
    "    table = pd.DataFrame(confusion_matrix(y_true, y_pred), \n",
    "                         columns=columns, index=index)\n",
    "    return sns.heatmap(table, annot=True, fmt='d', cmap='viridis')"
   ]
  },
  {
   "cell_type": "code",
   "execution_count": 86,
   "metadata": {},
   "outputs": [
    {
     "data": {
      "text/plain": [
       "<matplotlib.axes._subplots.AxesSubplot at 0x1206ade48>"
      ]
     },
     "execution_count": 86,
     "metadata": {},
     "output_type": "execute_result"
    },
    {
     "data": {
      "image/png": "[encoded data removed]",
      "text/plain": [
       "<Figure size 432x288 with 2 Axes>"
      ]
     },
     "metadata": {
      "needs_background": "light"
     },
     "output_type": "display_data"
    }
   ],
   "source": [
    "plot_confusion_matrix(y_val, y_pred)"
   ]
  },
  {
   "cell_type": "markdown",
   "metadata": {},
   "source": [
    "### Get precision & recall for majority class baseline"
   ]
  },
  {
   "cell_type": "code",
   "execution_count": 87,
   "metadata": {},
   "outputs": [
    {
     "name": "stderr",
     "output_type": "stream",
     "text": [
      "/Users/stephensinclair/anaconda3/lib/python3.7/site-packages/sklearn/metrics/classification.py:1143: UndefinedMetricWarning: Precision and F-score are ill-defined and being set to 0.0 in labels with no predicted samples.\n",
      "  'precision', 'predicted', average, warn_for)\n",
      "/Users/stephensinclair/anaconda3/lib/python3.7/site-packages/sklearn/metrics/classification.py:1143: UndefinedMetricWarning: Precision and F-score are ill-defined and being set to 0.0 in labels with no predicted samples.\n",
      "  'precision', 'predicted', average, warn_for)\n"
     ]
    },
    {
     "name": "stdout",
     "output_type": "stream",
     "text": [
      "              precision    recall  f1-score   support\n",
      "\n",
      " Charged Off       0.00      0.00      0.00      3503\n",
      "  Fully Paid       0.82      1.00      0.90     16497\n",
      "\n",
      "   micro avg       0.82      0.82      0.82     20000\n",
      "   macro avg       0.41      0.50      0.45     20000\n",
      "weighted avg       0.68      0.82      0.75     20000\n",
      "\n"
     ]
    },
    {
     "name": "stderr",
     "output_type": "stream",
     "text": [
      "/Users/stephensinclair/anaconda3/lib/python3.7/site-packages/sklearn/metrics/classification.py:1143: UndefinedMetricWarning: Precision and F-score are ill-defined and being set to 0.0 in labels with no predicted samples.\n",
      "  'precision', 'predicted', average, warn_for)\n"
     ]
    }
   ],
   "source": [
    "from sklearn.metrics import classification_report\n",
    "print(classification_report(y_val, y_pred))"
   ]
  },
  {
   "cell_type": "markdown",
   "metadata": {},
   "source": [
    "### Get ROC AUC score for majority class baseline\n",
    "[sklearn.metrics.roc_auc_score](https://scikit-learn.org/stable/modules/generated/sklearn.metrics.roc_auc_score.html)"
   ]
  },
  {
   "cell_type": "code",
   "execution_count": 88,
   "metadata": {},
   "outputs": [
    {
     "data": {
      "text/plain": [
       "0.5"
      ]
     },
     "execution_count": 88,
     "metadata": {},
     "output_type": "execute_result"
    }
   ],
   "source": [
    "from sklearn.metrics import roc_auc_score\n",
    "\n",
    "# VERY IMPORTANT - use predicted probabilities with ROC AUC score!\n",
    "# Because it's a metric of how2 ell you rank?sort predicted probabilities\n",
    "y_pred_proba = np. full_like(y_val, fill_value=1.00)\n",
    "roc_auc_score(y_val, y_pred_proba)"
   ]
  },
  {
   "cell_type": "markdown",
   "metadata": {},
   "source": [
    "### Fit a model"
   ]
  },
  {
   "cell_type": "markdown",
   "metadata": {},
   "source": [
    "#### Count missing values"
   ]
  },
  {
   "cell_type": "code",
   "execution_count": 117,
   "metadata": {},
   "outputs": [
    {
     "data": {
      "text/html": [
       "<div>\n",
       "<style scoped>\n",
       "    .dataframe tbody tr th:only-of-type {\n",
       "        vertical-align: middle;\n",
       "    }\n",
       "\n",
       "    .dataframe tbody tr th {\n",
       "        vertical-align: top;\n",
       "    }\n",
       "\n",
       "    .dataframe thead th {\n",
       "        text-align: right;\n",
       "    }\n",
       "</style>\n",
       "<table border=\"1\" class=\"dataframe\">\n",
       "  <thead>\n",
       "    <tr style=\"text-align: right;\">\n",
       "      <th></th>\n",
       "      <th>index</th>\n",
       "      <th>0</th>\n",
       "    </tr>\n",
       "  </thead>\n",
       "  <tbody>\n",
       "    <tr>\n",
       "      <th>0</th>\n",
       "      <td>id</td>\n",
       "      <td>88334</td>\n",
       "    </tr>\n",
       "    <tr>\n",
       "      <th>1</th>\n",
       "      <td>member_id</td>\n",
       "      <td>88334</td>\n",
       "    </tr>\n",
       "    <tr>\n",
       "      <th>2</th>\n",
       "      <td>url</td>\n",
       "      <td>88334</td>\n",
       "    </tr>\n",
       "    <tr>\n",
       "      <th>3</th>\n",
       "      <td>sec_app_mths_since_last_major_derog</td>\n",
       "      <td>87867</td>\n",
       "    </tr>\n",
       "    <tr>\n",
       "      <th>4</th>\n",
       "      <td>sec_app_revol_util</td>\n",
       "      <td>87001</td>\n",
       "    </tr>\n",
       "    <tr>\n",
       "      <th>5</th>\n",
       "      <td>revol_bal_joint</td>\n",
       "      <td>86985</td>\n",
       "    </tr>\n",
       "    <tr>\n",
       "      <th>6</th>\n",
       "      <td>sec_app_open_act_il</td>\n",
       "      <td>86984</td>\n",
       "    </tr>\n",
       "    <tr>\n",
       "      <th>7</th>\n",
       "      <td>sec_app_inq_last_6mths</td>\n",
       "      <td>86984</td>\n",
       "    </tr>\n",
       "    <tr>\n",
       "      <th>8</th>\n",
       "      <td>sec_app_num_rev_accts</td>\n",
       "      <td>86984</td>\n",
       "    </tr>\n",
       "    <tr>\n",
       "      <th>9</th>\n",
       "      <td>sec_app_mort_acc</td>\n",
       "      <td>86984</td>\n",
       "    </tr>\n",
       "    <tr>\n",
       "      <th>10</th>\n",
       "      <td>sec_app_earliest_cr_line</td>\n",
       "      <td>86984</td>\n",
       "    </tr>\n",
       "    <tr>\n",
       "      <th>11</th>\n",
       "      <td>sec_app_chargeoff_within_12_mths</td>\n",
       "      <td>86984</td>\n",
       "    </tr>\n",
       "    <tr>\n",
       "      <th>12</th>\n",
       "      <td>sec_app_collections_12_mths_ex_med</td>\n",
       "      <td>86984</td>\n",
       "    </tr>\n",
       "    <tr>\n",
       "      <th>13</th>\n",
       "      <td>sec_app_open_acc</td>\n",
       "      <td>86984</td>\n",
       "    </tr>\n",
       "    <tr>\n",
       "      <th>14</th>\n",
       "      <td>annual_inc_joint</td>\n",
       "      <td>86494</td>\n",
       "    </tr>\n",
       "    <tr>\n",
       "      <th>15</th>\n",
       "      <td>dti_joint</td>\n",
       "      <td>86494</td>\n",
       "    </tr>\n",
       "    <tr>\n",
       "      <th>16</th>\n",
       "      <td>desc</td>\n",
       "      <td>80599</td>\n",
       "    </tr>\n",
       "    <tr>\n",
       "      <th>17</th>\n",
       "      <td>mths_since_last_record</td>\n",
       "      <td>73692</td>\n",
       "    </tr>\n",
       "    <tr>\n",
       "      <th>18</th>\n",
       "      <td>mths_since_recent_bc_dlq</td>\n",
       "      <td>67639</td>\n",
       "    </tr>\n",
       "    <tr>\n",
       "      <th>19</th>\n",
       "      <td>mths_since_last_major_derog</td>\n",
       "      <td>65493</td>\n",
       "    </tr>\n",
       "    <tr>\n",
       "      <th>20</th>\n",
       "      <td>mths_since_recent_revol_delinq</td>\n",
       "      <td>59011</td>\n",
       "    </tr>\n",
       "    <tr>\n",
       "      <th>21</th>\n",
       "      <td>il_util</td>\n",
       "      <td>55498</td>\n",
       "    </tr>\n",
       "    <tr>\n",
       "      <th>22</th>\n",
       "      <td>mths_since_rcnt_il</td>\n",
       "      <td>51158</td>\n",
       "    </tr>\n",
       "    <tr>\n",
       "      <th>23</th>\n",
       "      <td>all_util</td>\n",
       "      <td>50079</td>\n",
       "    </tr>\n",
       "    <tr>\n",
       "      <th>24</th>\n",
       "      <td>open_rv_24m</td>\n",
       "      <td>50078</td>\n",
       "    </tr>\n",
       "    <tr>\n",
       "      <th>25</th>\n",
       "      <td>open_il_24m</td>\n",
       "      <td>50078</td>\n",
       "    </tr>\n",
       "    <tr>\n",
       "      <th>26</th>\n",
       "      <td>total_bal_il</td>\n",
       "      <td>50078</td>\n",
       "    </tr>\n",
       "    <tr>\n",
       "      <th>27</th>\n",
       "      <td>inq_last_12m</td>\n",
       "      <td>50078</td>\n",
       "    </tr>\n",
       "    <tr>\n",
       "      <th>28</th>\n",
       "      <td>total_cu_tl</td>\n",
       "      <td>50078</td>\n",
       "    </tr>\n",
       "    <tr>\n",
       "      <th>29</th>\n",
       "      <td>open_rv_12m</td>\n",
       "      <td>50078</td>\n",
       "    </tr>\n",
       "    <tr>\n",
       "      <th>30</th>\n",
       "      <td>open_act_il</td>\n",
       "      <td>50078</td>\n",
       "    </tr>\n",
       "    <tr>\n",
       "      <th>31</th>\n",
       "      <td>max_bal_bc</td>\n",
       "      <td>50078</td>\n",
       "    </tr>\n",
       "    <tr>\n",
       "      <th>32</th>\n",
       "      <td>inq_fi</td>\n",
       "      <td>50078</td>\n",
       "    </tr>\n",
       "    <tr>\n",
       "      <th>33</th>\n",
       "      <td>open_il_12m</td>\n",
       "      <td>50078</td>\n",
       "    </tr>\n",
       "    <tr>\n",
       "      <th>34</th>\n",
       "      <td>open_acc_6m</td>\n",
       "      <td>50078</td>\n",
       "    </tr>\n",
       "    <tr>\n",
       "      <th>35</th>\n",
       "      <td>mths_since_last_delinq</td>\n",
       "      <td>44885</td>\n",
       "    </tr>\n",
       "    <tr>\n",
       "      <th>36</th>\n",
       "      <td>mths_since_recent_inq</td>\n",
       "      <td>11744</td>\n",
       "    </tr>\n",
       "    <tr>\n",
       "      <th>37</th>\n",
       "      <td>num_tl_120dpd_2m</td>\n",
       "      <td>7441</td>\n",
       "    </tr>\n",
       "    <tr>\n",
       "      <th>38</th>\n",
       "      <td>mo_sin_old_il_acct</td>\n",
       "      <td>6672</td>\n",
       "    </tr>\n",
       "    <tr>\n",
       "      <th>39</th>\n",
       "      <td>emp_title</td>\n",
       "      <td>5734</td>\n",
       "    </tr>\n",
       "    <tr>\n",
       "      <th>40</th>\n",
       "      <td>emp_length</td>\n",
       "      <td>5211</td>\n",
       "    </tr>\n",
       "    <tr>\n",
       "      <th>41</th>\n",
       "      <td>pct_tl_nvr_dlq</td>\n",
       "      <td>4240</td>\n",
       "    </tr>\n",
       "    <tr>\n",
       "      <th>42</th>\n",
       "      <td>avg_cur_bal</td>\n",
       "      <td>4232</td>\n",
       "    </tr>\n",
       "    <tr>\n",
       "      <th>43</th>\n",
       "      <td>num_actv_rev_tl</td>\n",
       "      <td>4230</td>\n",
       "    </tr>\n",
       "    <tr>\n",
       "      <th>44</th>\n",
       "      <td>tot_cur_bal</td>\n",
       "      <td>4230</td>\n",
       "    </tr>\n",
       "    <tr>\n",
       "      <th>45</th>\n",
       "      <td>num_accts_ever_120_pd</td>\n",
       "      <td>4230</td>\n",
       "    </tr>\n",
       "    <tr>\n",
       "      <th>46</th>\n",
       "      <td>num_tl_op_past_12m</td>\n",
       "      <td>4230</td>\n",
       "    </tr>\n",
       "    <tr>\n",
       "      <th>47</th>\n",
       "      <td>num_tl_30dpd</td>\n",
       "      <td>4230</td>\n",
       "    </tr>\n",
       "    <tr>\n",
       "      <th>48</th>\n",
       "      <td>num_rev_accts</td>\n",
       "      <td>4230</td>\n",
       "    </tr>\n",
       "    <tr>\n",
       "      <th>49</th>\n",
       "      <td>tot_hi_cred_lim</td>\n",
       "      <td>4230</td>\n",
       "    </tr>\n",
       "    <tr>\n",
       "      <th>50</th>\n",
       "      <td>tot_coll_amt</td>\n",
       "      <td>4230</td>\n",
       "    </tr>\n",
       "    <tr>\n",
       "      <th>51</th>\n",
       "      <td>num_tl_90g_dpd_24m</td>\n",
       "      <td>4230</td>\n",
       "    </tr>\n",
       "    <tr>\n",
       "      <th>52</th>\n",
       "      <td>num_il_tl</td>\n",
       "      <td>4230</td>\n",
       "    </tr>\n",
       "    <tr>\n",
       "      <th>53</th>\n",
       "      <td>num_rev_tl_bal_gt_0</td>\n",
       "      <td>4230</td>\n",
       "    </tr>\n",
       "    <tr>\n",
       "      <th>54</th>\n",
       "      <td>mo_sin_old_rev_tl_op</td>\n",
       "      <td>4230</td>\n",
       "    </tr>\n",
       "    <tr>\n",
       "      <th>55</th>\n",
       "      <td>num_bc_tl</td>\n",
       "      <td>4230</td>\n",
       "    </tr>\n",
       "    <tr>\n",
       "      <th>56</th>\n",
       "      <td>total_rev_hi_lim</td>\n",
       "      <td>4230</td>\n",
       "    </tr>\n",
       "    <tr>\n",
       "      <th>57</th>\n",
       "      <td>mo_sin_rcnt_tl</td>\n",
       "      <td>4230</td>\n",
       "    </tr>\n",
       "    <tr>\n",
       "      <th>58</th>\n",
       "      <td>num_actv_bc_tl</td>\n",
       "      <td>4230</td>\n",
       "    </tr>\n",
       "    <tr>\n",
       "      <th>59</th>\n",
       "      <td>mo_sin_rcnt_rev_tl_op</td>\n",
       "      <td>4230</td>\n",
       "    </tr>\n",
       "    <tr>\n",
       "      <th>60</th>\n",
       "      <td>total_il_high_credit_limit</td>\n",
       "      <td>4230</td>\n",
       "    </tr>\n",
       "    <tr>\n",
       "      <th>61</th>\n",
       "      <td>num_op_rev_tl</td>\n",
       "      <td>4230</td>\n",
       "    </tr>\n",
       "    <tr>\n",
       "      <th>62</th>\n",
       "      <td>bc_util</td>\n",
       "      <td>3860</td>\n",
       "    </tr>\n",
       "    <tr>\n",
       "      <th>63</th>\n",
       "      <td>percent_bc_gt_75</td>\n",
       "      <td>3855</td>\n",
       "    </tr>\n",
       "    <tr>\n",
       "      <th>64</th>\n",
       "      <td>bc_open_to_buy</td>\n",
       "      <td>3827</td>\n",
       "    </tr>\n",
       "    <tr>\n",
       "      <th>65</th>\n",
       "      <td>mths_since_recent_bc</td>\n",
       "      <td>3758</td>\n",
       "    </tr>\n",
       "    <tr>\n",
       "      <th>66</th>\n",
       "      <td>num_sats</td>\n",
       "      <td>3524</td>\n",
       "    </tr>\n",
       "    <tr>\n",
       "      <th>67</th>\n",
       "      <td>num_bc_sats</td>\n",
       "      <td>3524</td>\n",
       "    </tr>\n",
       "    <tr>\n",
       "      <th>68</th>\n",
       "      <td>acc_open_past_24mths</td>\n",
       "      <td>2978</td>\n",
       "    </tr>\n",
       "    <tr>\n",
       "      <th>69</th>\n",
       "      <td>mort_acc</td>\n",
       "      <td>2978</td>\n",
       "    </tr>\n",
       "    <tr>\n",
       "      <th>70</th>\n",
       "      <td>total_bal_ex_mort</td>\n",
       "      <td>2978</td>\n",
       "    </tr>\n",
       "    <tr>\n",
       "      <th>71</th>\n",
       "      <td>total_bc_limit</td>\n",
       "      <td>2978</td>\n",
       "    </tr>\n",
       "    <tr>\n",
       "      <th>72</th>\n",
       "      <td>title</td>\n",
       "      <td>1147</td>\n",
       "    </tr>\n",
       "    <tr>\n",
       "      <th>73</th>\n",
       "      <td>revol_util</td>\n",
       "      <td>47</td>\n",
       "    </tr>\n",
       "    <tr>\n",
       "      <th>74</th>\n",
       "      <td>pub_rec_bankruptcies</td>\n",
       "      <td>46</td>\n",
       "    </tr>\n",
       "    <tr>\n",
       "      <th>75</th>\n",
       "      <td>dti</td>\n",
       "      <td>23</td>\n",
       "    </tr>\n",
       "    <tr>\n",
       "      <th>76</th>\n",
       "      <td>collections_12_mths_ex_med</td>\n",
       "      <td>1</td>\n",
       "    </tr>\n",
       "    <tr>\n",
       "      <th>77</th>\n",
       "      <td>tax_liens</td>\n",
       "      <td>1</td>\n",
       "    </tr>\n",
       "    <tr>\n",
       "      <th>78</th>\n",
       "      <td>chargeoff_within_12_mths</td>\n",
       "      <td>1</td>\n",
       "    </tr>\n",
       "    <tr>\n",
       "      <th>79</th>\n",
       "      <td>home_ownership</td>\n",
       "      <td>0</td>\n",
       "    </tr>\n",
       "    <tr>\n",
       "      <th>80</th>\n",
       "      <td>annual_inc</td>\n",
       "      <td>0</td>\n",
       "    </tr>\n",
       "    <tr>\n",
       "      <th>81</th>\n",
       "      <td>total_acc</td>\n",
       "      <td>0</td>\n",
       "    </tr>\n",
       "    <tr>\n",
       "      <th>82</th>\n",
       "      <td>grade</td>\n",
       "      <td>0</td>\n",
       "    </tr>\n",
       "    <tr>\n",
       "      <th>83</th>\n",
       "      <td>open_acc</td>\n",
       "      <td>0</td>\n",
       "    </tr>\n",
       "    <tr>\n",
       "      <th>84</th>\n",
       "      <td>delinq_2yrs</td>\n",
       "      <td>0</td>\n",
       "    </tr>\n",
       "    <tr>\n",
       "      <th>85</th>\n",
       "      <td>sub_grade</td>\n",
       "      <td>0</td>\n",
       "    </tr>\n",
       "    <tr>\n",
       "      <th>86</th>\n",
       "      <td>purpose</td>\n",
       "      <td>0</td>\n",
       "    </tr>\n",
       "    <tr>\n",
       "      <th>87</th>\n",
       "      <td>addr_state</td>\n",
       "      <td>0</td>\n",
       "    </tr>\n",
       "    <tr>\n",
       "      <th>88</th>\n",
       "      <td>pub_rec</td>\n",
       "      <td>0</td>\n",
       "    </tr>\n",
       "    <tr>\n",
       "      <th>89</th>\n",
       "      <td>inq_last_6mths</td>\n",
       "      <td>0</td>\n",
       "    </tr>\n",
       "    <tr>\n",
       "      <th>90</th>\n",
       "      <td>revol_bal</td>\n",
       "      <td>0</td>\n",
       "    </tr>\n",
       "    <tr>\n",
       "      <th>91</th>\n",
       "      <td>delinq_amnt</td>\n",
       "      <td>0</td>\n",
       "    </tr>\n",
       "    <tr>\n",
       "      <th>92</th>\n",
       "      <td>funded_amnt</td>\n",
       "      <td>0</td>\n",
       "    </tr>\n",
       "    <tr>\n",
       "      <th>93</th>\n",
       "      <td>initial_list_status</td>\n",
       "      <td>0</td>\n",
       "    </tr>\n",
       "    <tr>\n",
       "      <th>94</th>\n",
       "      <td>zip_code</td>\n",
       "      <td>0</td>\n",
       "    </tr>\n",
       "    <tr>\n",
       "      <th>95</th>\n",
       "      <td>int_rate</td>\n",
       "      <td>0</td>\n",
       "    </tr>\n",
       "    <tr>\n",
       "      <th>96</th>\n",
       "      <td>earliest_cr_line</td>\n",
       "      <td>0</td>\n",
       "    </tr>\n",
       "    <tr>\n",
       "      <th>97</th>\n",
       "      <td>acc_now_delinq</td>\n",
       "      <td>0</td>\n",
       "    </tr>\n",
       "    <tr>\n",
       "      <th>98</th>\n",
       "      <td>installment</td>\n",
       "      <td>0</td>\n",
       "    </tr>\n",
       "    <tr>\n",
       "      <th>99</th>\n",
       "      <td>loan_amnt</td>\n",
       "      <td>0</td>\n",
       "    </tr>\n",
       "    <tr>\n",
       "      <th>100</th>\n",
       "      <td>term</td>\n",
       "      <td>0</td>\n",
       "    </tr>\n",
       "    <tr>\n",
       "      <th>101</th>\n",
       "      <td>application_type</td>\n",
       "      <td>0</td>\n",
       "    </tr>\n",
       "  </tbody>\n",
       "</table>\n",
       "</div>"
      ],
      "text/plain": [
       "                                   index      0\n",
       "0                                     id  88334\n",
       "1                              member_id  88334\n",
       "2                                    url  88334\n",
       "3    sec_app_mths_since_last_major_derog  87867\n",
       "4                     sec_app_revol_util  87001\n",
       "5                        revol_bal_joint  86985\n",
       "6                    sec_app_open_act_il  86984\n",
       "7                 sec_app_inq_last_6mths  86984\n",
       "8                  sec_app_num_rev_accts  86984\n",
       "9                       sec_app_mort_acc  86984\n",
       "10              sec_app_earliest_cr_line  86984\n",
       "11      sec_app_chargeoff_within_12_mths  86984\n",
       "12    sec_app_collections_12_mths_ex_med  86984\n",
       "13                      sec_app_open_acc  86984\n",
       "14                      annual_inc_joint  86494\n",
       "15                             dti_joint  86494\n",
       "16                                  desc  80599\n",
       "17                mths_since_last_record  73692\n",
       "18              mths_since_recent_bc_dlq  67639\n",
       "19           mths_since_last_major_derog  65493\n",
       "20        mths_since_recent_revol_delinq  59011\n",
       "21                               il_util  55498\n",
       "22                    mths_since_rcnt_il  51158\n",
       "23                              all_util  50079\n",
       "24                           open_rv_24m  50078\n",
       "25                           open_il_24m  50078\n",
       "26                          total_bal_il  50078\n",
       "27                          inq_last_12m  50078\n",
       "28                           total_cu_tl  50078\n",
       "29                           open_rv_12m  50078\n",
       "30                           open_act_il  50078\n",
       "31                            max_bal_bc  50078\n",
       "32                                inq_fi  50078\n",
       "33                           open_il_12m  50078\n",
       "34                           open_acc_6m  50078\n",
       "35                mths_since_last_delinq  44885\n",
       "36                 mths_since_recent_inq  11744\n",
       "37                      num_tl_120dpd_2m   7441\n",
       "38                    mo_sin_old_il_acct   6672\n",
       "39                             emp_title   5734\n",
       "40                            emp_length   5211\n",
       "41                        pct_tl_nvr_dlq   4240\n",
       "42                           avg_cur_bal   4232\n",
       "43                       num_actv_rev_tl   4230\n",
       "44                           tot_cur_bal   4230\n",
       "45                 num_accts_ever_120_pd   4230\n",
       "46                    num_tl_op_past_12m   4230\n",
       "47                          num_tl_30dpd   4230\n",
       "48                         num_rev_accts   4230\n",
       "49                       tot_hi_cred_lim   4230\n",
       "50                          tot_coll_amt   4230\n",
       "51                    num_tl_90g_dpd_24m   4230\n",
       "52                             num_il_tl   4230\n",
       "53                   num_rev_tl_bal_gt_0   4230\n",
       "54                  mo_sin_old_rev_tl_op   4230\n",
       "55                             num_bc_tl   4230\n",
       "56                      total_rev_hi_lim   4230\n",
       "57                        mo_sin_rcnt_tl   4230\n",
       "58                        num_actv_bc_tl   4230\n",
       "59                 mo_sin_rcnt_rev_tl_op   4230\n",
       "60            total_il_high_credit_limit   4230\n",
       "61                         num_op_rev_tl   4230\n",
       "62                               bc_util   3860\n",
       "63                      percent_bc_gt_75   3855\n",
       "64                        bc_open_to_buy   3827\n",
       "65                  mths_since_recent_bc   3758\n",
       "66                              num_sats   3524\n",
       "67                           num_bc_sats   3524\n",
       "68                  acc_open_past_24mths   2978\n",
       "69                              mort_acc   2978\n",
       "70                     total_bal_ex_mort   2978\n",
       "71                        total_bc_limit   2978\n",
       "72                                 title   1147\n",
       "73                            revol_util     47\n",
       "74                  pub_rec_bankruptcies     46\n",
       "75                                   dti     23\n",
       "76            collections_12_mths_ex_med      1\n",
       "77                             tax_liens      1\n",
       "78              chargeoff_within_12_mths      1\n",
       "79                        home_ownership      0\n",
       "80                            annual_inc      0\n",
       "81                             total_acc      0\n",
       "82                                 grade      0\n",
       "83                              open_acc      0\n",
       "84                           delinq_2yrs      0\n",
       "85                             sub_grade      0\n",
       "86                               purpose      0\n",
       "87                            addr_state      0\n",
       "88                               pub_rec      0\n",
       "89                        inq_last_6mths      0\n",
       "90                             revol_bal      0\n",
       "91                           delinq_amnt      0\n",
       "92                           funded_amnt      0\n",
       "93                   initial_list_status      0\n",
       "94                              zip_code      0\n",
       "95                              int_rate      0\n",
       "96                      earliest_cr_line      0\n",
       "97                        acc_now_delinq      0\n",
       "98                           installment      0\n",
       "99                             loan_amnt      0\n",
       "100                                 term      0\n",
       "101                     application_type      0"
      ]
     },
     "execution_count": 117,
     "metadata": {},
     "output_type": "execute_result"
    }
   ],
   "source": [
    "null_counts = X_train.isnull().sum().sort_values(ascending=False)\n",
    "null_counts.reset_index()"
   ]
  },
  {
   "cell_type": "code",
   "execution_count": 118,
   "metadata": {},
   "outputs": [
    {
     "name": "stdout",
     "output_type": "stream",
     "text": [
      "['id', 'member_id', 'url', 'sec_app_mths_since_last_major_derog', 'sec_app_revol_util', 'revol_bal_joint', 'sec_app_open_act_il', 'sec_app_inq_last_6mths', 'sec_app_num_rev_accts', 'sec_app_mort_acc', 'sec_app_earliest_cr_line', 'sec_app_chargeoff_within_12_mths', 'sec_app_collections_12_mths_ex_med', 'sec_app_open_acc', 'annual_inc_joint', 'dti_joint', 'desc', 'mths_since_last_record', 'mths_since_recent_bc_dlq', 'mths_since_last_major_derog', 'mths_since_recent_revol_delinq', 'il_util', 'mths_since_rcnt_il', 'all_util', 'open_rv_24m', 'open_il_24m', 'total_bal_il', 'inq_last_12m', 'total_cu_tl', 'open_rv_12m', 'open_act_il', 'max_bal_bc', 'inq_fi', 'open_il_12m', 'open_acc_6m', 'mths_since_last_delinq', 'mths_since_recent_inq', 'num_tl_120dpd_2m', 'mo_sin_old_il_acct', 'emp_title', 'emp_length', 'pct_tl_nvr_dlq', 'avg_cur_bal', 'num_actv_rev_tl', 'tot_cur_bal', 'num_accts_ever_120_pd', 'num_tl_op_past_12m', 'num_tl_30dpd', 'num_rev_accts', 'tot_hi_cred_lim', 'tot_coll_amt', 'num_tl_90g_dpd_24m', 'num_il_tl', 'num_rev_tl_bal_gt_0', 'mo_sin_old_rev_tl_op', 'num_bc_tl', 'total_rev_hi_lim', 'mo_sin_rcnt_tl', 'num_actv_bc_tl', 'mo_sin_rcnt_rev_tl_op', 'total_il_high_credit_limit', 'num_op_rev_tl', 'bc_util', 'percent_bc_gt_75', 'bc_open_to_buy', 'mths_since_recent_bc', 'num_sats', 'num_bc_sats', 'acc_open_past_24mths', 'mort_acc', 'total_bal_ex_mort', 'total_bc_limit', 'title']\n"
     ]
    }
   ],
   "source": [
    "many_nulls = null_counts[:73].index\n",
    "print(list(many_nulls))"
   ]
  },
  {
   "cell_type": "markdown",
   "metadata": {},
   "source": [
    "#### Wrangle data"
   ]
  },
  {
   "cell_type": "code",
   "execution_count": 119,
   "metadata": {},
   "outputs": [
    {
     "name": "stdout",
     "output_type": "stream",
     "text": [
      "CPU times: user 3.73 s, sys: 980 ms, total: 4.71 s\n",
      "Wall time: 4.13 s\n"
     ]
    }
   ],
   "source": [
    "%%time\n",
    "\n",
    "def wrangle(X):\n",
    "    X = X.copy()\n",
    "\n",
    "    # Convert percentages from strings to floats\n",
    "    X['int_rate'] = X['int_rate'].str.strip('%').astype(float)\n",
    "    X['revol_util'] = X['revol_util'].str.strip('%').astype(float)\n",
    "        \n",
    "    # Create features for three employee titles: teacher, manager, owner\n",
    "    X['emp_title'] = X['emp_title'].str.lower()\n",
    "    X['emp_title_teacher'] = X['emp_title'].str.contains('teacher', na=False)\n",
    "    X['emp_title_manager'] = X['emp_title'].str.contains('manager', na=False)\n",
    "    X['emp_title_owner']   = X['emp_title'].str.contains('owner', na=False)\n",
    "\n",
    "    # Transform features with many nulls to binary flags\n",
    "    many_nulls = ['id', 'member_id', 'url', 'sec_app_mths_since_last_major_derog', \n",
    "                  'sec_app_revol_util', 'revol_bal_joint', 'sec_app_open_act_il', \n",
    "                  'sec_app_inq_last_6mths', 'sec_app_num_rev_accts', 'sec_app_mort_acc', \n",
    "                  'sec_app_earliest_cr_line', 'sec_app_chargeoff_within_12_mths', \n",
    "                  'sec_app_collections_12_mths_ex_med', 'sec_app_open_acc', 'annual_inc_joint', \n",
    "                  'dti_joint', 'desc', 'mths_since_last_record', 'mths_since_recent_bc_dlq', \n",
    "                  'mths_since_last_major_derog', 'mths_since_recent_revol_delinq', 'il_util', \n",
    "                  'mths_since_rcnt_il', 'all_util', 'open_rv_24m', 'open_il_24m', 'total_bal_il', \n",
    "                  'inq_last_12m', 'total_cu_tl', 'open_rv_12m', 'open_act_il', 'max_bal_bc', \n",
    "                  'inq_fi', 'open_il_12m', 'open_acc_6m', 'mths_since_last_delinq', \n",
    "                  'mths_since_recent_inq', 'num_tl_120dpd_2m', 'mo_sin_old_il_acct', 'emp_title', \n",
    "                  'emp_length', 'pct_tl_nvr_dlq', 'avg_cur_bal', 'num_actv_rev_tl', 'tot_cur_bal', \n",
    "                  'num_accts_ever_120_pd', 'num_tl_op_past_12m', 'num_tl_30dpd', 'num_rev_accts', \n",
    "                  'tot_hi_cred_lim', 'tot_coll_amt', 'num_tl_90g_dpd_24m', 'num_il_tl', \n",
    "                  'num_rev_tl_bal_gt_0', 'mo_sin_old_rev_tl_op', 'num_bc_tl', 'total_rev_hi_lim', \n",
    "                  'mo_sin_rcnt_tl', 'num_actv_bc_tl', 'mo_sin_rcnt_rev_tl_op', \n",
    "                  'total_il_high_credit_limit', 'num_op_rev_tl', 'bc_util', 'percent_bc_gt_75', \n",
    "                  'bc_open_to_buy', 'mths_since_recent_bc', 'num_sats', 'num_bc_sats', \n",
    "                  'acc_open_past_24mths', 'mort_acc', 'total_bal_ex_mort', 'total_bc_limit', \n",
    "                  'title']\n",
    "    \n",
    "    for col in many_nulls:\n",
    "        X[col] = X[col].isnull()\n",
    "    \n",
    "    # For features with few nulls, do mean imputation\n",
    "    for col in X:\n",
    "        if X[col].isnull().sum() > 0:\n",
    "            X[col] = X[col].fillna(X[col].mean())\n",
    "            \n",
    "    # Drop some columns\n",
    "    X = X.drop(columns='id')  # id is random\n",
    "    X = X.drop(columns='member_id')  # member_id is always null\n",
    "    X = X.drop(columns='title')  # Duplicative of purpose\n",
    "    X = X.drop(columns='grade')  # Duplicative of sub_grade\n",
    "    X = X.drop(columns='zip_code') # High cardinality\n",
    "\n",
    "    # Transform sub_grade from \"A1\" - \"G5\" to 1.1 - 7.5\n",
    "    def wrangle_sub_grade(x):\n",
    "        first_digit = ord(x[0]) - 64\n",
    "        second_digit = int(x[1])\n",
    "        return first_digit + second_digit/10\n",
    "    \n",
    "    X['sub_grade'] = X['sub_grade'].apply(wrangle_sub_grade)\n",
    "    \n",
    "    # Return the wrangled dataframe\n",
    "    return X\n",
    "\n",
    "\n",
    "X_train = wrangle(X_train)\n",
    "X_val   = wrangle(X_val)\n",
    "X_test  = wrangle(X_test)"
   ]
  },
  {
   "cell_type": "code",
   "execution_count": 120,
   "metadata": {},
   "outputs": [
    {
     "name": "stdout",
     "output_type": "stream",
     "text": [
      "CPU times: user 43.2 s, sys: 1.16 s, total: 44.4 s\n",
      "Wall time: 17.9 s\n"
     ]
    }
   ],
   "source": [
    "%%time\n",
    "import category_encoders as ce\n",
    "from sklearn.ensemble import RandomForestClassifier\n",
    "from sklearn.pipeline import make_pipeline\n",
    "from xgboost import XGBClassifier\n",
    "\n",
    "pipeline = make_pipeline(\n",
    "    ce.OrdinalEncoder(), \n",
    "    RandomForestClassifier(n_estimators=100, n_jobs=-1, random_state=42)\n",
    ")\n",
    "\n",
    "pipeline.fit(X_train, y_train)"
   ]
  },
  {
   "cell_type": "code",
   "execution_count": 96,
   "metadata": {},
   "outputs": [],
   "source": [
    "encoder = ce.OrdinalEncoder()\n",
    "X_train_encoded = encoder.fit_transform(X_train)\n",
    "X_val_encoded = encoder.fit_transform(X_val)\n",
    "X_test_encoded = encoder.transform(X_test)"
   ]
  },
  {
   "cell_type": "code",
   "execution_count": 99,
   "metadata": {},
   "outputs": [
    {
     "name": "stdout",
     "output_type": "stream",
     "text": [
      "[0]\tvalidation_0-auc:0.689215\tvalidation_1-auc:0.681207\n",
      "Multiple eval metrics have been passed: 'validation_1-auc' will be used for early stopping.\n",
      "\n",
      "Will train until validation_1-auc hasn't improved in 100 rounds.\n",
      "[1]\tvalidation_0-auc:0.694222\tvalidation_1-auc:0.683966\n",
      "[2]\tvalidation_0-auc:0.696978\tvalidation_1-auc:0.685106\n",
      "[3]\tvalidation_0-auc:0.700151\tvalidation_1-auc:0.687781\n",
      "[4]\tvalidation_0-auc:0.702038\tvalidation_1-auc:0.688835\n",
      "[5]\tvalidation_0-auc:0.703508\tvalidation_1-auc:0.689438\n",
      "[6]\tvalidation_0-auc:0.704503\tvalidation_1-auc:0.690321\n",
      "[7]\tvalidation_0-auc:0.705907\tvalidation_1-auc:0.690728\n",
      "[8]\tvalidation_0-auc:0.707313\tvalidation_1-auc:0.691355\n",
      "[9]\tvalidation_0-auc:0.708009\tvalidation_1-auc:0.69182\n",
      "[10]\tvalidation_0-auc:0.708431\tvalidation_1-auc:0.69208\n",
      "[11]\tvalidation_0-auc:0.709298\tvalidation_1-auc:0.692486\n",
      "[12]\tvalidation_0-auc:0.7098\tvalidation_1-auc:0.692596\n",
      "[13]\tvalidation_0-auc:0.711018\tvalidation_1-auc:0.692729\n",
      "[14]\tvalidation_0-auc:0.712075\tvalidation_1-auc:0.692866\n",
      "[15]\tvalidation_0-auc:0.71283\tvalidation_1-auc:0.692977\n",
      "[16]\tvalidation_0-auc:0.713753\tvalidation_1-auc:0.693302\n",
      "[17]\tvalidation_0-auc:0.714378\tvalidation_1-auc:0.693084\n",
      "[18]\tvalidation_0-auc:0.715241\tvalidation_1-auc:0.693417\n",
      "[19]\tvalidation_0-auc:0.716388\tvalidation_1-auc:0.69418\n",
      "[20]\tvalidation_0-auc:0.717247\tvalidation_1-auc:0.694667\n",
      "[21]\tvalidation_0-auc:0.718132\tvalidation_1-auc:0.694883\n",
      "[22]\tvalidation_0-auc:0.718792\tvalidation_1-auc:0.695011\n",
      "[23]\tvalidation_0-auc:0.719364\tvalidation_1-auc:0.695074\n",
      "[24]\tvalidation_0-auc:0.72028\tvalidation_1-auc:0.695412\n",
      "[25]\tvalidation_0-auc:0.721073\tvalidation_1-auc:0.695555\n",
      "[26]\tvalidation_0-auc:0.721943\tvalidation_1-auc:0.695782\n",
      "[27]\tvalidation_0-auc:0.722847\tvalidation_1-auc:0.696047\n",
      "[28]\tvalidation_0-auc:0.723636\tvalidation_1-auc:0.696415\n",
      "[29]\tvalidation_0-auc:0.724671\tvalidation_1-auc:0.696478\n",
      "[30]\tvalidation_0-auc:0.725845\tvalidation_1-auc:0.696473\n",
      "[31]\tvalidation_0-auc:0.726888\tvalidation_1-auc:0.696626\n",
      "[32]\tvalidation_0-auc:0.72744\tvalidation_1-auc:0.696839\n",
      "[33]\tvalidation_0-auc:0.728353\tvalidation_1-auc:0.696827\n",
      "[34]\tvalidation_0-auc:0.729417\tvalidation_1-auc:0.696778\n",
      "[35]\tvalidation_0-auc:0.730247\tvalidation_1-auc:0.697084\n",
      "[36]\tvalidation_0-auc:0.731202\tvalidation_1-auc:0.69725\n",
      "[37]\tvalidation_0-auc:0.732238\tvalidation_1-auc:0.697337\n",
      "[38]\tvalidation_0-auc:0.733016\tvalidation_1-auc:0.697559\n",
      "[39]\tvalidation_0-auc:0.734174\tvalidation_1-auc:0.697775\n",
      "[40]\tvalidation_0-auc:0.735345\tvalidation_1-auc:0.698269\n",
      "[41]\tvalidation_0-auc:0.736017\tvalidation_1-auc:0.698389\n",
      "[42]\tvalidation_0-auc:0.737323\tvalidation_1-auc:0.698281\n",
      "[43]\tvalidation_0-auc:0.738205\tvalidation_1-auc:0.69818\n",
      "[44]\tvalidation_0-auc:0.739254\tvalidation_1-auc:0.69838\n",
      "[45]\tvalidation_0-auc:0.740145\tvalidation_1-auc:0.698521\n",
      "[46]\tvalidation_0-auc:0.741022\tvalidation_1-auc:0.698771\n",
      "[47]\tvalidation_0-auc:0.741713\tvalidation_1-auc:0.69877\n",
      "[48]\tvalidation_0-auc:0.742548\tvalidation_1-auc:0.698769\n",
      "[49]\tvalidation_0-auc:0.743403\tvalidation_1-auc:0.698952\n",
      "[50]\tvalidation_0-auc:0.744429\tvalidation_1-auc:0.698956\n",
      "[51]\tvalidation_0-auc:0.745121\tvalidation_1-auc:0.699252\n",
      "[52]\tvalidation_0-auc:0.745687\tvalidation_1-auc:0.699432\n",
      "[53]\tvalidation_0-auc:0.746958\tvalidation_1-auc:0.699356\n",
      "[54]\tvalidation_0-auc:0.747914\tvalidation_1-auc:0.699451\n",
      "[55]\tvalidation_0-auc:0.748528\tvalidation_1-auc:0.699449\n",
      "[56]\tvalidation_0-auc:0.749258\tvalidation_1-auc:0.699442\n",
      "[57]\tvalidation_0-auc:0.750278\tvalidation_1-auc:0.69954\n",
      "[58]\tvalidation_0-auc:0.750841\tvalidation_1-auc:0.699565\n",
      "[59]\tvalidation_0-auc:0.75132\tvalidation_1-auc:0.69957\n",
      "[60]\tvalidation_0-auc:0.751746\tvalidation_1-auc:0.699708\n",
      "[61]\tvalidation_0-auc:0.752557\tvalidation_1-auc:0.699738\n",
      "[62]\tvalidation_0-auc:0.753313\tvalidation_1-auc:0.69983\n",
      "[63]\tvalidation_0-auc:0.75391\tvalidation_1-auc:0.700016\n",
      "[64]\tvalidation_0-auc:0.754223\tvalidation_1-auc:0.699938\n",
      "[65]\tvalidation_0-auc:0.754606\tvalidation_1-auc:0.699851\n",
      "[66]\tvalidation_0-auc:0.755536\tvalidation_1-auc:0.699903\n",
      "[67]\tvalidation_0-auc:0.756321\tvalidation_1-auc:0.699927\n",
      "[68]\tvalidation_0-auc:0.756774\tvalidation_1-auc:0.699907\n",
      "[69]\tvalidation_0-auc:0.757546\tvalidation_1-auc:0.700079\n",
      "[70]\tvalidation_0-auc:0.75784\tvalidation_1-auc:0.70016\n",
      "[71]\tvalidation_0-auc:0.758548\tvalidation_1-auc:0.700229\n",
      "[72]\tvalidation_0-auc:0.759488\tvalidation_1-auc:0.700154\n",
      "[73]\tvalidation_0-auc:0.760054\tvalidation_1-auc:0.700225\n",
      "[74]\tvalidation_0-auc:0.760492\tvalidation_1-auc:0.700168\n",
      "[75]\tvalidation_0-auc:0.761196\tvalidation_1-auc:0.699964\n",
      "[76]\tvalidation_0-auc:0.761522\tvalidation_1-auc:0.700007\n",
      "[77]\tvalidation_0-auc:0.761789\tvalidation_1-auc:0.700029\n",
      "[78]\tvalidation_0-auc:0.762554\tvalidation_1-auc:0.700098\n",
      "[79]\tvalidation_0-auc:0.763406\tvalidation_1-auc:0.700105\n",
      "[80]\tvalidation_0-auc:0.763576\tvalidation_1-auc:0.699964\n",
      "[81]\tvalidation_0-auc:0.764186\tvalidation_1-auc:0.699999\n",
      "[82]\tvalidation_0-auc:0.764828\tvalidation_1-auc:0.699993\n",
      "[83]\tvalidation_0-auc:0.765418\tvalidation_1-auc:0.699932\n",
      "[84]\tvalidation_0-auc:0.765921\tvalidation_1-auc:0.69999\n",
      "[85]\tvalidation_0-auc:0.766317\tvalidation_1-auc:0.700174\n",
      "[86]\tvalidation_0-auc:0.767096\tvalidation_1-auc:0.700247\n",
      "[87]\tvalidation_0-auc:0.76786\tvalidation_1-auc:0.70053\n",
      "[88]\tvalidation_0-auc:0.767931\tvalidation_1-auc:0.700548\n",
      "[89]\tvalidation_0-auc:0.768377\tvalidation_1-auc:0.700488\n",
      "[90]\tvalidation_0-auc:0.769236\tvalidation_1-auc:0.700485\n",
      "[91]\tvalidation_0-auc:0.769376\tvalidation_1-auc:0.700506\n",
      "[92]\tvalidation_0-auc:0.769702\tvalidation_1-auc:0.700366\n",
      "[93]\tvalidation_0-auc:0.770287\tvalidation_1-auc:0.700426\n",
      "[94]\tvalidation_0-auc:0.770778\tvalidation_1-auc:0.700587\n",
      "[95]\tvalidation_0-auc:0.77145\tvalidation_1-auc:0.700688\n",
      "[96]\tvalidation_0-auc:0.771606\tvalidation_1-auc:0.700671\n",
      "[97]\tvalidation_0-auc:0.772111\tvalidation_1-auc:0.700774\n",
      "[98]\tvalidation_0-auc:0.772239\tvalidation_1-auc:0.700851\n",
      "[99]\tvalidation_0-auc:0.772832\tvalidation_1-auc:0.700754\n",
      "[100]\tvalidation_0-auc:0.773351\tvalidation_1-auc:0.700759\n",
      "[101]\tvalidation_0-auc:0.773386\tvalidation_1-auc:0.700735\n",
      "[102]\tvalidation_0-auc:0.773814\tvalidation_1-auc:0.70079\n",
      "[103]\tvalidation_0-auc:0.774427\tvalidation_1-auc:0.700888\n",
      "[104]\tvalidation_0-auc:0.774989\tvalidation_1-auc:0.700999\n",
      "[105]\tvalidation_0-auc:0.77549\tvalidation_1-auc:0.700918\n",
      "[106]\tvalidation_0-auc:0.775992\tvalidation_1-auc:0.701018\n",
      "[107]\tvalidation_0-auc:0.776485\tvalidation_1-auc:0.701076\n",
      "[108]\tvalidation_0-auc:0.77682\tvalidation_1-auc:0.701128\n",
      "[109]\tvalidation_0-auc:0.776992\tvalidation_1-auc:0.701189\n",
      "[110]\tvalidation_0-auc:0.777382\tvalidation_1-auc:0.701194\n",
      "[111]\tvalidation_0-auc:0.778058\tvalidation_1-auc:0.701203\n",
      "[112]\tvalidation_0-auc:0.778176\tvalidation_1-auc:0.70123\n",
      "[113]\tvalidation_0-auc:0.778265\tvalidation_1-auc:0.701212\n",
      "[114]\tvalidation_0-auc:0.778482\tvalidation_1-auc:0.701198\n",
      "[115]\tvalidation_0-auc:0.779112\tvalidation_1-auc:0.70112\n",
      "[116]\tvalidation_0-auc:0.77946\tvalidation_1-auc:0.701203\n",
      "[117]\tvalidation_0-auc:0.779929\tvalidation_1-auc:0.701184\n",
      "[118]\tvalidation_0-auc:0.780617\tvalidation_1-auc:0.701236\n",
      "[119]\tvalidation_0-auc:0.781006\tvalidation_1-auc:0.701292\n",
      "[120]\tvalidation_0-auc:0.78127\tvalidation_1-auc:0.701196\n",
      "[121]\tvalidation_0-auc:0.781812\tvalidation_1-auc:0.701248\n",
      "[122]\tvalidation_0-auc:0.782062\tvalidation_1-auc:0.701201\n",
      "[123]\tvalidation_0-auc:0.782471\tvalidation_1-auc:0.701235\n",
      "[124]\tvalidation_0-auc:0.783133\tvalidation_1-auc:0.701335\n",
      "[125]\tvalidation_0-auc:0.783775\tvalidation_1-auc:0.701448\n",
      "[126]\tvalidation_0-auc:0.784145\tvalidation_1-auc:0.701362\n",
      "[127]\tvalidation_0-auc:0.784179\tvalidation_1-auc:0.701351\n",
      "[128]\tvalidation_0-auc:0.784255\tvalidation_1-auc:0.701351\n",
      "[129]\tvalidation_0-auc:0.784613\tvalidation_1-auc:0.701445\n",
      "[130]\tvalidation_0-auc:0.784961\tvalidation_1-auc:0.701225\n",
      "[131]\tvalidation_0-auc:0.785347\tvalidation_1-auc:0.701203\n",
      "[132]\tvalidation_0-auc:0.785974\tvalidation_1-auc:0.701178\n",
      "[133]\tvalidation_0-auc:0.786645\tvalidation_1-auc:0.700985\n",
      "[134]\tvalidation_0-auc:0.786744\tvalidation_1-auc:0.70098\n",
      "[135]\tvalidation_0-auc:0.787224\tvalidation_1-auc:0.700776\n",
      "[136]\tvalidation_0-auc:0.787531\tvalidation_1-auc:0.700746\n",
      "[137]\tvalidation_0-auc:0.787949\tvalidation_1-auc:0.70058\n",
      "[138]\tvalidation_0-auc:0.788254\tvalidation_1-auc:0.700641\n",
      "[139]\tvalidation_0-auc:0.788637\tvalidation_1-auc:0.700619\n",
      "[140]\tvalidation_0-auc:0.788912\tvalidation_1-auc:0.700581\n"
     ]
    },
    {
     "name": "stdout",
     "output_type": "stream",
     "text": [
      "[141]\tvalidation_0-auc:0.789125\tvalidation_1-auc:0.70066\n",
      "[142]\tvalidation_0-auc:0.789783\tvalidation_1-auc:0.700618\n",
      "[143]\tvalidation_0-auc:0.790316\tvalidation_1-auc:0.700639\n",
      "[144]\tvalidation_0-auc:0.790669\tvalidation_1-auc:0.700585\n",
      "[145]\tvalidation_0-auc:0.790913\tvalidation_1-auc:0.700616\n",
      "[146]\tvalidation_0-auc:0.79145\tvalidation_1-auc:0.70054\n",
      "[147]\tvalidation_0-auc:0.791939\tvalidation_1-auc:0.700482\n",
      "[148]\tvalidation_0-auc:0.792448\tvalidation_1-auc:0.700441\n",
      "[149]\tvalidation_0-auc:0.792785\tvalidation_1-auc:0.700315\n",
      "[150]\tvalidation_0-auc:0.792854\tvalidation_1-auc:0.700285\n",
      "[151]\tvalidation_0-auc:0.79297\tvalidation_1-auc:0.700222\n",
      "[152]\tvalidation_0-auc:0.793012\tvalidation_1-auc:0.700157\n",
      "[153]\tvalidation_0-auc:0.793662\tvalidation_1-auc:0.700041\n",
      "[154]\tvalidation_0-auc:0.794084\tvalidation_1-auc:0.70002\n",
      "[155]\tvalidation_0-auc:0.794553\tvalidation_1-auc:0.699969\n",
      "[156]\tvalidation_0-auc:0.795109\tvalidation_1-auc:0.700062\n",
      "[157]\tvalidation_0-auc:0.795493\tvalidation_1-auc:0.700094\n",
      "[158]\tvalidation_0-auc:0.795644\tvalidation_1-auc:0.700017\n",
      "[159]\tvalidation_0-auc:0.796269\tvalidation_1-auc:0.699894\n",
      "[160]\tvalidation_0-auc:0.796581\tvalidation_1-auc:0.699869\n",
      "[161]\tvalidation_0-auc:0.796672\tvalidation_1-auc:0.699814\n",
      "[162]\tvalidation_0-auc:0.796714\tvalidation_1-auc:0.699802\n",
      "[163]\tvalidation_0-auc:0.796924\tvalidation_1-auc:0.69977\n",
      "[164]\tvalidation_0-auc:0.79724\tvalidation_1-auc:0.699673\n",
      "[165]\tvalidation_0-auc:0.797595\tvalidation_1-auc:0.699659\n",
      "[166]\tvalidation_0-auc:0.79798\tvalidation_1-auc:0.699657\n",
      "[167]\tvalidation_0-auc:0.798555\tvalidation_1-auc:0.699547\n",
      "[168]\tvalidation_0-auc:0.799002\tvalidation_1-auc:0.699374\n",
      "[169]\tvalidation_0-auc:0.799268\tvalidation_1-auc:0.699335\n",
      "[170]\tvalidation_0-auc:0.799602\tvalidation_1-auc:0.699283\n",
      "[171]\tvalidation_0-auc:0.799709\tvalidation_1-auc:0.699215\n",
      "[172]\tvalidation_0-auc:0.799807\tvalidation_1-auc:0.699202\n",
      "[173]\tvalidation_0-auc:0.800035\tvalidation_1-auc:0.699174\n",
      "[174]\tvalidation_0-auc:0.800529\tvalidation_1-auc:0.699144\n",
      "[175]\tvalidation_0-auc:0.801057\tvalidation_1-auc:0.698974\n",
      "[176]\tvalidation_0-auc:0.801308\tvalidation_1-auc:0.698823\n",
      "[177]\tvalidation_0-auc:0.8017\tvalidation_1-auc:0.698644\n",
      "[178]\tvalidation_0-auc:0.801912\tvalidation_1-auc:0.698612\n",
      "[179]\tvalidation_0-auc:0.801912\tvalidation_1-auc:0.698624\n",
      "[180]\tvalidation_0-auc:0.802245\tvalidation_1-auc:0.698596\n",
      "[181]\tvalidation_0-auc:0.80232\tvalidation_1-auc:0.698545\n",
      "[182]\tvalidation_0-auc:0.802441\tvalidation_1-auc:0.698573\n",
      "[183]\tvalidation_0-auc:0.802776\tvalidation_1-auc:0.698509\n",
      "[184]\tvalidation_0-auc:0.802819\tvalidation_1-auc:0.698497\n",
      "[185]\tvalidation_0-auc:0.803145\tvalidation_1-auc:0.698411\n",
      "[186]\tvalidation_0-auc:0.803459\tvalidation_1-auc:0.698393\n",
      "[187]\tvalidation_0-auc:0.803883\tvalidation_1-auc:0.698407\n",
      "[188]\tvalidation_0-auc:0.804147\tvalidation_1-auc:0.698363\n",
      "[189]\tvalidation_0-auc:0.804609\tvalidation_1-auc:0.698352\n",
      "[190]\tvalidation_0-auc:0.804872\tvalidation_1-auc:0.698261\n",
      "[191]\tvalidation_0-auc:0.805503\tvalidation_1-auc:0.698198\n",
      "[192]\tvalidation_0-auc:0.805954\tvalidation_1-auc:0.698017\n",
      "[193]\tvalidation_0-auc:0.805984\tvalidation_1-auc:0.698018\n",
      "[194]\tvalidation_0-auc:0.806036\tvalidation_1-auc:0.698023\n",
      "[195]\tvalidation_0-auc:0.806182\tvalidation_1-auc:0.698091\n",
      "[196]\tvalidation_0-auc:0.806589\tvalidation_1-auc:0.698069\n",
      "[197]\tvalidation_0-auc:0.806629\tvalidation_1-auc:0.698056\n",
      "[198]\tvalidation_0-auc:0.807261\tvalidation_1-auc:0.69812\n",
      "[199]\tvalidation_0-auc:0.807506\tvalidation_1-auc:0.698082\n",
      "[200]\tvalidation_0-auc:0.807685\tvalidation_1-auc:0.698056\n",
      "[201]\tvalidation_0-auc:0.807753\tvalidation_1-auc:0.698086\n",
      "[202]\tvalidation_0-auc:0.808518\tvalidation_1-auc:0.698036\n",
      "[203]\tvalidation_0-auc:0.808596\tvalidation_1-auc:0.697984\n",
      "[204]\tvalidation_0-auc:0.808707\tvalidation_1-auc:0.698045\n",
      "[205]\tvalidation_0-auc:0.808862\tvalidation_1-auc:0.697949\n",
      "[206]\tvalidation_0-auc:0.809052\tvalidation_1-auc:0.698014\n",
      "[207]\tvalidation_0-auc:0.809161\tvalidation_1-auc:0.698109\n",
      "[208]\tvalidation_0-auc:0.809371\tvalidation_1-auc:0.698121\n",
      "[209]\tvalidation_0-auc:0.809427\tvalidation_1-auc:0.698153\n",
      "[210]\tvalidation_0-auc:0.809698\tvalidation_1-auc:0.698113\n",
      "[211]\tvalidation_0-auc:0.809838\tvalidation_1-auc:0.698018\n",
      "[212]\tvalidation_0-auc:0.810092\tvalidation_1-auc:0.698079\n",
      "[213]\tvalidation_0-auc:0.81032\tvalidation_1-auc:0.697972\n",
      "[214]\tvalidation_0-auc:0.810781\tvalidation_1-auc:0.697899\n",
      "[215]\tvalidation_0-auc:0.810909\tvalidation_1-auc:0.697887\n",
      "[216]\tvalidation_0-auc:0.811051\tvalidation_1-auc:0.697887\n",
      "[217]\tvalidation_0-auc:0.811186\tvalidation_1-auc:0.69793\n",
      "[218]\tvalidation_0-auc:0.811451\tvalidation_1-auc:0.697906\n",
      "[219]\tvalidation_0-auc:0.811934\tvalidation_1-auc:0.697934\n",
      "[220]\tvalidation_0-auc:0.812019\tvalidation_1-auc:0.697862\n",
      "[221]\tvalidation_0-auc:0.81223\tvalidation_1-auc:0.697834\n",
      "[222]\tvalidation_0-auc:0.812314\tvalidation_1-auc:0.697809\n",
      "[223]\tvalidation_0-auc:0.812981\tvalidation_1-auc:0.697763\n",
      "[224]\tvalidation_0-auc:0.813203\tvalidation_1-auc:0.697708\n",
      "[225]\tvalidation_0-auc:0.813522\tvalidation_1-auc:0.697785\n",
      "Stopping. Best iteration:\n",
      "[125]\tvalidation_0-auc:0.783775\tvalidation_1-auc:0.701448\n",
      "\n"
     ]
    },
    {
     "data": {
      "text/plain": [
       "XGBClassifier(base_score=0.5, booster='gbtree', colsample_bylevel=1,\n",
       "       colsample_bytree=1, eta=0.095, gamma=0, learning_rate=0.1,\n",
       "       max_delta_step=0, max_depth=6, min_child_weight=1, missing=None,\n",
       "       n_estimators=2000, n_jobs=-1, nthread=None,\n",
       "       objective='binary:logistic', random_state=0, reg_alpha=0,\n",
       "       reg_lambda=1, scale_pos_weight=1, seed=None, silent=True,\n",
       "       subsample=1)"
      ]
     },
     "execution_count": 99,
     "metadata": {},
     "output_type": "execute_result"
    }
   ],
   "source": [
    "eval_set = [(X_train_encoded, y_train),\n",
    "            (X_val_encoded, y_val)]\n",
    "\n",
    "model = XGBClassifier(n_estimators=2000, n_jobs=-1, eta=0.095, max_depth=6)\n",
    "model.fit(X_train_encoded, y_train, eval_set=eval_set, eval_metric='auc',\n",
    "         early_stopping_rounds=100)"
   ]
  },
  {
   "cell_type": "code",
   "execution_count": 100,
   "metadata": {},
   "outputs": [
    {
     "name": "stdout",
     "output_type": "stream",
     "text": [
      "Help on class XGBClassifier in module xgboost.sklearn:\n",
      "\n",
      "class XGBClassifier(XGBModel, sklearn.base.ClassifierMixin)\n",
      " |  XGBClassifier(max_depth=3, learning_rate=0.1, n_estimators=100, silent=True, objective='binary:logistic', booster='gbtree', n_jobs=1, nthread=None, gamma=0, min_child_weight=1, max_delta_step=0, subsample=1, colsample_bytree=1, colsample_bylevel=1, reg_alpha=0, reg_lambda=1, scale_pos_weight=1, base_score=0.5, random_state=0, seed=None, missing=None, **kwargs)\n",
      " |  \n",
      " |  Implementation of the scikit-learn API for XGBoost classification.\n",
      " |  \n",
      " |      Parameters\n",
      " |  ----------\n",
      " |  max_depth : int\n",
      " |      Maximum tree depth for base learners.\n",
      " |  learning_rate : float\n",
      " |      Boosting learning rate (xgb's \"eta\")\n",
      " |  n_estimators : int\n",
      " |      Number of boosted trees to fit.\n",
      " |  silent : boolean\n",
      " |      Whether to print messages while running boosting.\n",
      " |  objective : string or callable\n",
      " |      Specify the learning task and the corresponding learning objective or\n",
      " |      a custom objective function to be used (see note below).\n",
      " |  booster: string\n",
      " |      Specify which booster to use: gbtree, gblinear or dart.\n",
      " |  nthread : int\n",
      " |      Number of parallel threads used to run xgboost.  (Deprecated, please use n_jobs)\n",
      " |  n_jobs : int\n",
      " |      Number of parallel threads used to run xgboost.  (replaces nthread)\n",
      " |  gamma : float\n",
      " |      Minimum loss reduction required to make a further partition on a leaf node of the tree.\n",
      " |  min_child_weight : int\n",
      " |      Minimum sum of instance weight(hessian) needed in a child.\n",
      " |  max_delta_step : int\n",
      " |      Maximum delta step we allow each tree's weight estimation to be.\n",
      " |  subsample : float\n",
      " |      Subsample ratio of the training instance.\n",
      " |  colsample_bytree : float\n",
      " |      Subsample ratio of columns when constructing each tree.\n",
      " |  colsample_bylevel : float\n",
      " |      Subsample ratio of columns for each split, in each level.\n",
      " |  reg_alpha : float (xgb's alpha)\n",
      " |      L1 regularization term on weights\n",
      " |  reg_lambda : float (xgb's lambda)\n",
      " |      L2 regularization term on weights\n",
      " |  scale_pos_weight : float\n",
      " |      Balancing of positive and negative weights.\n",
      " |  base_score:\n",
      " |      The initial prediction score of all instances, global bias.\n",
      " |  seed : int\n",
      " |      Random number seed.  (Deprecated, please use random_state)\n",
      " |  random_state : int\n",
      " |      Random number seed.  (replaces seed)\n",
      " |  missing : float, optional\n",
      " |      Value in the data which needs to be present as a missing value. If\n",
      " |      None, defaults to np.nan.\n",
      " |  **kwargs : dict, optional\n",
      " |      Keyword arguments for XGBoost Booster object.  Full documentation of parameters can\n",
      " |      be found here: https://github.com/dmlc/xgboost/blob/master/doc/parameter.md.\n",
      " |      Attempting to set a parameter via the constructor args and **kwargs dict simultaneously\n",
      " |      will result in a TypeError.\n",
      " |      Note:\n",
      " |          **kwargs is unsupported by Sklearn.  We do not guarantee that parameters passed via\n",
      " |          this argument will interact properly with Sklearn.\n",
      " |  \n",
      " |  Note\n",
      " |  ----\n",
      " |  A custom objective function can be provided for the ``objective``\n",
      " |  parameter. In this case, it should have the signature\n",
      " |  ``objective(y_true, y_pred) -> grad, hess``:\n",
      " |  \n",
      " |  y_true: array_like of shape [n_samples]\n",
      " |      The target values\n",
      " |  y_pred: array_like of shape [n_samples]\n",
      " |      The predicted values\n",
      " |  \n",
      " |  grad: array_like of shape [n_samples]\n",
      " |      The value of the gradient for each sample point.\n",
      " |  hess: array_like of shape [n_samples]\n",
      " |      The value of the second derivative for each sample point\n",
      " |  \n",
      " |  Method resolution order:\n",
      " |      XGBClassifier\n",
      " |      XGBModel\n",
      " |      sklearn.base.BaseEstimator\n",
      " |      sklearn.base.ClassifierMixin\n",
      " |      builtins.object\n",
      " |  \n",
      " |  Methods defined here:\n",
      " |  \n",
      " |  __init__(self, max_depth=3, learning_rate=0.1, n_estimators=100, silent=True, objective='binary:logistic', booster='gbtree', n_jobs=1, nthread=None, gamma=0, min_child_weight=1, max_delta_step=0, subsample=1, colsample_bytree=1, colsample_bylevel=1, reg_alpha=0, reg_lambda=1, scale_pos_weight=1, base_score=0.5, random_state=0, seed=None, missing=None, **kwargs)\n",
      " |      Initialize self.  See help(type(self)) for accurate signature.\n",
      " |  \n",
      " |  evals_result(self)\n",
      " |      Return the evaluation results.\n",
      " |      \n",
      " |      If eval_set is passed to the `fit` function, you can call evals_result() to\n",
      " |      get evaluation results for all passed eval_sets. When eval_metric is also\n",
      " |      passed to the `fit` function, the evals_result will contain the eval_metrics\n",
      " |      passed to the `fit` function\n",
      " |      \n",
      " |      Returns\n",
      " |      -------\n",
      " |      evals_result : dictionary\n",
      " |      \n",
      " |      Example\n",
      " |      -------\n",
      " |      param_dist = {'objective':'binary:logistic', 'n_estimators':2}\n",
      " |      \n",
      " |      clf = xgb.XGBClassifier(**param_dist)\n",
      " |      \n",
      " |      clf.fit(X_train, y_train,\n",
      " |              eval_set=[(X_train, y_train), (X_test, y_test)],\n",
      " |              eval_metric='logloss',\n",
      " |              verbose=True)\n",
      " |      \n",
      " |      evals_result = clf.evals_result()\n",
      " |      \n",
      " |      The variable evals_result will contain:\n",
      " |      {'validation_0': {'logloss': ['0.604835', '0.531479']},\n",
      " |       'validation_1': {'logloss': ['0.41965', '0.17686']}}\n",
      " |  \n",
      " |  fit(self, X, y, sample_weight=None, eval_set=None, eval_metric=None, early_stopping_rounds=None, verbose=True, xgb_model=None)\n",
      " |      Fit gradient boosting classifier\n",
      " |      \n",
      " |      Parameters\n",
      " |      ----------\n",
      " |      X : array_like\n",
      " |          Feature matrix\n",
      " |      y : array_like\n",
      " |          Labels\n",
      " |      sample_weight : array_like\n",
      " |          Weight for each instance\n",
      " |      eval_set : list, optional\n",
      " |          A list of (X, y) pairs to use as a validation set for\n",
      " |          early-stopping\n",
      " |      eval_metric : str, callable, optional\n",
      " |          If a str, should be a built-in evaluation metric to use. See\n",
      " |          doc/parameter.md. If callable, a custom evaluation metric. The call\n",
      " |          signature is func(y_predicted, y_true) where y_true will be a\n",
      " |          DMatrix object such that you may need to call the get_label\n",
      " |          method. It must return a str, value pair where the str is a name\n",
      " |          for the evaluation and value is the value of the evaluation\n",
      " |          function. This objective is always minimized.\n",
      " |      early_stopping_rounds : int, optional\n",
      " |          Activates early stopping. Validation error needs to decrease at\n",
      " |          least every <early_stopping_rounds> round(s) to continue training.\n",
      " |          Requires at least one item in evals.  If there's more than one,\n",
      " |          will use the last. Returns the model from the last iteration\n",
      " |          (not the best one). If early stopping occurs, the model will\n",
      " |          have three additional fields: bst.best_score, bst.best_iteration\n",
      " |          and bst.best_ntree_limit.\n",
      " |          (Use bst.best_ntree_limit to get the correct value if num_parallel_tree\n",
      " |          and/or num_class appears in the parameters)\n",
      " |      verbose : bool\n",
      " |          If `verbose` and an evaluation set is used, writes the evaluation\n",
      " |          metric measured on the validation set to stderr.\n",
      " |      xgb_model : str\n",
      " |          file name of stored xgb model or 'Booster' instance Xgb model to be\n",
      " |          loaded before training (allows training continuation).\n",
      " |  \n",
      " |  predict(self, data, output_margin=False, ntree_limit=0)\n",
      " |  \n",
      " |  predict_proba(self, data, output_margin=False, ntree_limit=0)\n",
      " |  \n",
      " |  ----------------------------------------------------------------------\n",
      " |  Methods inherited from XGBModel:\n",
      " |  \n",
      " |  __setstate__(self, state)\n",
      " |  \n",
      " |  apply(self, X, ntree_limit=0)\n",
      " |      Return the predicted leaf every tree for each sample.\n",
      " |      \n",
      " |      Parameters\n",
      " |      ----------\n",
      " |      X : array_like, shape=[n_samples, n_features]\n",
      " |          Input features matrix.\n",
      " |      \n",
      " |      ntree_limit : int\n",
      " |          Limit number of trees in the prediction; defaults to 0 (use all trees).\n",
      " |      \n",
      " |      Returns\n",
      " |      -------\n",
      " |      X_leaves : array_like, shape=[n_samples, n_trees]\n",
      " |          For each datapoint x in X and for each tree, return the index of the\n",
      " |          leaf x ends up in. Leaves are numbered within\n",
      " |          ``[0; 2**(self.max_depth+1))``, possibly with gaps in the numbering.\n",
      " |  \n",
      " |  get_booster(self)\n",
      " |      Get the underlying xgboost Booster of this model.\n",
      " |      \n",
      " |      This will raise an exception when fit was not called\n",
      " |      \n",
      " |      Returns\n",
      " |      -------\n",
      " |      booster : a xgboost booster of underlying model\n",
      " |  \n",
      " |  get_params(self, deep=False)\n",
      " |      Get parameters.\n",
      " |  \n",
      " |  get_xgb_params(self)\n",
      " |      Get xgboost type parameters.\n",
      " |  \n",
      " |  ----------------------------------------------------------------------\n",
      " |  Data descriptors inherited from XGBModel:\n",
      " |  \n",
      " |  feature_importances_\n",
      " |      Returns\n",
      " |      -------\n",
      " |      feature_importances_ : array of shape = [n_features]\n",
      " |  \n",
      " |  ----------------------------------------------------------------------\n",
      " |  Methods inherited from sklearn.base.BaseEstimator:\n",
      " |  \n",
      " |  __getstate__(self)\n",
      " |  \n",
      " |  __repr__(self)\n",
      " |      Return repr(self).\n",
      " |  \n",
      " |  set_params(self, **params)\n",
      " |      Set the parameters of this estimator.\n",
      " |      \n",
      " |      The method works on simple estimators as well as on nested objects\n",
      " |      (such as pipelines). The latter have parameters of the form\n",
      " |      ``<component>__<parameter>`` so that it's possible to update each\n",
      " |      component of a nested object.\n",
      " |      \n",
      " |      Returns\n",
      " |      -------\n",
      " |      self\n",
      " |  \n",
      " |  ----------------------------------------------------------------------\n",
      " |  Data descriptors inherited from sklearn.base.BaseEstimator:\n",
      " |  \n",
      " |  __dict__\n",
      " |      dictionary for instance variables (if defined)\n",
      " |  \n",
      " |  __weakref__\n",
      " |      list of weak references to the object (if defined)\n",
      " |  \n",
      " |  ----------------------------------------------------------------------\n",
      " |  Methods inherited from sklearn.base.ClassifierMixin:\n",
      " |  \n",
      " |  score(self, X, y, sample_weight=None)\n",
      " |      Returns the mean accuracy on the given test data and labels.\n",
      " |      \n",
      " |      In multi-label classification, this is the subset accuracy\n",
      " |      which is a harsh metric since you require for each sample that\n",
      " |      each label set be correctly predicted.\n",
      " |      \n",
      " |      Parameters\n",
      " |      ----------\n",
      " |      X : array-like, shape = (n_samples, n_features)\n",
      " |          Test samples.\n",
      " |      \n",
      " |      y : array-like, shape = (n_samples) or (n_samples, n_outputs)\n",
      " |          True labels for X.\n",
      " |      \n",
      " |      sample_weight : array-like, shape = [n_samples], optional\n",
      " |          Sample weights.\n",
      " |      \n",
      " |      Returns\n",
      " |      -------\n",
      " |      score : float\n",
      " |          Mean accuracy of self.predict(X) wrt. y.\n",
      "\n"
     ]
    }
   ],
   "source": [
    "help(XGBClassifier)"
   ]
  },
  {
   "cell_type": "code",
   "execution_count": 101,
   "metadata": {},
   "outputs": [],
   "source": [
    "best_iter = model.best_iteration"
   ]
  },
  {
   "cell_type": "code",
   "execution_count": 104,
   "metadata": {},
   "outputs": [
    {
     "name": "stdout",
     "output_type": "stream",
     "text": [
      "125\n"
     ]
    }
   ],
   "source": [
    "print(best_iter)"
   ]
  },
  {
   "cell_type": "code",
   "execution_count": 105,
   "metadata": {},
   "outputs": [
    {
     "name": "stdout",
     "output_type": "stream",
     "text": [
      "126\n"
     ]
    }
   ],
   "source": [
    "print(model.best_ntree_limit)"
   ]
  },
  {
   "cell_type": "code",
   "execution_count": null,
   "metadata": {},
   "outputs": [],
   "source": [
    "ntree_limit=reg.best_ntree_limit"
   ]
  },
  {
   "cell_type": "code",
   "execution_count": 107,
   "metadata": {},
   "outputs": [
    {
     "data": {
      "text/plain": [
       "0.7013349393831777"
      ]
     },
     "execution_count": 107,
     "metadata": {},
     "output_type": "execute_result"
    }
   ],
   "source": [
    "y_pred_proba = model.predict_proba(X_val_encoded, ntree_limit=model.best_iteration)[:,1]\n",
    "roc_auc_score(y_val, y_pred_proba)"
   ]
  },
  {
   "cell_type": "code",
   "execution_count": 111,
   "metadata": {},
   "outputs": [
    {
     "data": {
      "text/plain": [
       "<matplotlib.axes._subplots.AxesSubplot at 0x122608710>"
      ]
     },
     "execution_count": 111,
     "metadata": {},
     "output_type": "execute_result"
    },
    {
     "data": {
      "image/png": "[encoded data removed]",
      "text/plain": [
       "<Figure size 432x288 with 2 Axes>"
      ]
     },
     "metadata": {
      "needs_background": "light"
     },
     "output_type": "display_data"
    }
   ],
   "source": [
    "y_pred = model.predict(X_val_encoded, ntree_limit=model.best_iteration)\n",
    "plot_confusion_matrix(y_val, y_pred) "
   ]
  },
  {
   "cell_type": "code",
   "execution_count": 113,
   "metadata": {},
   "outputs": [
    {
     "name": "stdout",
     "output_type": "stream",
     "text": [
      "              precision    recall  f1-score   support\n",
      "\n",
      " Charged Off       0.52      0.02      0.05      3503\n",
      "  Fully Paid       0.83      1.00      0.90     16497\n",
      "\n",
      "   micro avg       0.83      0.83      0.83     20000\n",
      "   macro avg       0.67      0.51      0.47     20000\n",
      "weighted avg       0.77      0.83      0.75     20000\n",
      "\n"
     ]
    }
   ],
   "source": [
    "print(classification_report(y_val, y_pred))"
   ]
  },
  {
   "cell_type": "markdown",
   "metadata": {},
   "source": [
    "### Get accuracy score for model"
   ]
  },
  {
   "cell_type": "code",
   "execution_count": 27,
   "metadata": {},
   "outputs": [],
   "source": [
    "y_val_pred = pipeline.predict(X_val)"
   ]
  },
  {
   "cell_type": "code",
   "execution_count": 28,
   "metadata": {},
   "outputs": [
    {
     "data": {
      "text/plain": [
       "0.8255"
      ]
     },
     "execution_count": 28,
     "metadata": {},
     "output_type": "execute_result"
    }
   ],
   "source": [
    "accuracy_score(y_val, y_val_pred) "
   ]
  },
  {
   "cell_type": "markdown",
   "metadata": {},
   "source": [
    "### Get confusion matrix for model"
   ]
  },
  {
   "cell_type": "code",
   "execution_count": 29,
   "metadata": {},
   "outputs": [
    {
     "data": {
      "text/plain": [
       "<matplotlib.axes._subplots.AxesSubplot at 0x1a42c269b0>"
      ]
     },
     "execution_count": 29,
     "metadata": {},
     "output_type": "execute_result"
    },
    {
     "data": {
      "image/png": "[encoded data removed]",
      "text/plain": [
       "<Figure size 432x288 with 2 Axes>"
      ]
     },
     "metadata": {
      "needs_background": "light"
     },
     "output_type": "display_data"
    }
   ],
   "source": [
    "plot_confusion_matrix(y_val, y_val_pred) "
   ]
  },
  {
   "cell_type": "markdown",
   "metadata": {},
   "source": [
    "### Get precision & recall for model"
   ]
  },
  {
   "cell_type": "code",
   "execution_count": 30,
   "metadata": {},
   "outputs": [
    {
     "name": "stdout",
     "output_type": "stream",
     "text": [
      "              precision    recall  f1-score   support\n",
      "\n",
      " Charged Off       0.62      0.01      0.02      3503\n",
      "  Fully Paid       0.83      1.00      0.90     16497\n",
      "\n",
      "   micro avg       0.83      0.83      0.83     20000\n",
      "   macro avg       0.72      0.50      0.46     20000\n",
      "weighted avg       0.79      0.83      0.75     20000\n",
      "\n"
     ]
    }
   ],
   "source": [
    "print(classification_report(y_val, y_val_pred))"
   ]
  },
  {
   "cell_type": "markdown",
   "metadata": {},
   "source": [
    "### Get ROC AUC score for model"
   ]
  },
  {
   "cell_type": "code",
   "execution_count": 32,
   "metadata": {},
   "outputs": [
    {
     "data": {
      "text/plain": [
       "0.6925617631911933"
      ]
     },
     "execution_count": 32,
     "metadata": {},
     "output_type": "execute_result"
    }
   ],
   "source": [
    "y_pred_proba = pipeline.predict_proba(X_val)[:,1]\n",
    "roc_auc_score(y_val, y_pred_proba)"
   ]
  },
  {
   "cell_type": "code",
   "execution_count": 34,
   "metadata": {},
   "outputs": [],
   "source": [
    "y_pred = y_val_pred"
   ]
  },
  {
   "cell_type": "markdown",
   "metadata": {},
   "source": [
    "## Understand ROC AUC (Receiver Operating Characteristic, Area Under the Curve)\n",
    "\n",
    "#### Scikit-Learn docs\n",
    "- [User Guide: Receiver operating characteristic (ROC)](https://scikit-learn.org/stable/modules/model_evaluation.html#receiver-operating-characteristic-roc)\n",
    "- [sklearn.metrics.roc_curve](https://scikit-learn.org/stable/modules/generated/sklearn.metrics.roc_curve.html)\n",
    "- [sklearn.metrics.roc_auc_score](https://scikit-learn.org/stable/modules/generated/sklearn.metrics.roc_auc_score.html)\n",
    "\n",
    "#### More links\n",
    "- [ROC curves and Area Under the Curve explained](https://www.dataschool.io/roc-curves-and-auc-explained/)\n",
    "- [The philosophical argument for using ROC curves](https://lukeoakdenrayner.wordpress.com/2018/01/07/the-philosophical-argument-for-using-roc-curves/)\n",
    "\n",
    "[Wikipedia explains,](https://en.wikipedia.org/wiki/Receiver_operating_characteristic) \"A receiver operating characteristic curve, or ROC curve, is a graphical plot that illustrates the diagnostic ability of a binary classifier system as its discrimination threshold is varied. The ROC curve is created by plotting the true positive rate (TPR) against the false positive rate (FPR) at various threshold settings.\"\n",
    "\n",
    "ROC AUC is the area under the ROC curve. [It can be interpreted](https://stats.stackexchange.com/questions/132777/what-does-auc-stand-for-and-what-is-it) as \"the expectation that a uniformly drawn random positive is ranked before a uniformly drawn random negative.\" \n",
    "\n",
    "ROC AUC measures how well a classifier ranks predicted probabilities. It ranges from 0 to 1. A naive majority class baseline will have an ROC AUC score of 0.5. "
   ]
  },
  {
   "cell_type": "markdown",
   "metadata": {},
   "source": [
    "## Visualize the ROC curve by plotting true positive rate vs false positive rate at varying thresholds"
   ]
  },
  {
   "cell_type": "code",
   "execution_count": 35,
   "metadata": {},
   "outputs": [
    {
     "data": {
      "application/vnd.jupyter.widget-view+json": {
       "model_id": "c798099675c14558bffd763b95dd258f",
       "version_major": 2,
       "version_minor": 0
      },
      "text/plain": [
       "interactive(children=(FloatSlider(value=0.5, description='threshold', max=1.0, step=0.05), Output()), _dom_cla…"
      ]
     },
     "metadata": {},
     "output_type": "display_data"
    }
   ],
   "source": [
    "from ipywidgets import interact, fixed\n",
    "from sklearn.metrics import roc_auc_score, roc_curve\n",
    "from sklearn.utils.multiclass import unique_labels\n",
    "\n",
    "def set_threshold(y_true, y_pred_proba, threshold=0.5):\n",
    "    \"\"\"\n",
    "    For binary classification problems. \n",
    "    y_pred_proba : predicted probability of class 1\n",
    "    \"\"\"\n",
    "    \n",
    "    # Apply threshold to predicted probabilities\n",
    "    # to get discrete predictions\n",
    "    class_0, class_1 = unique_labels(y_true)\n",
    "    y_pred = np.full_like(y_true, fill_value=class_0)\n",
    "    y_pred[y_pred_proba > threshold] = class_1\n",
    "    \n",
    "    # Plot distribution of predicted probabilities\n",
    "    ax = sns.distplot(y_pred_proba)\n",
    "    ax.axvline(threshold, color='red')\n",
    "    plt.title('Distribution of predicted probabilities')\n",
    "    plt.show()\n",
    "\n",
    "    # Calculate true positive rate and false positive rate\n",
    "    true_positives = (y_pred==y_true) & (y_pred==class_1)\n",
    "    false_positives = (y_pred!=y_true) & (y_pred==class_1)\n",
    "    actual_positives = (y_true==class_1)\n",
    "    actual_negatives = (y_true==class_0)\n",
    "    true_positive_rate = true_positives.sum() / actual_positives.sum()\n",
    "    false_positive_rate = false_positives.sum() / actual_negatives.sum()\n",
    "    print('False Positive Rate', false_positive_rate)\n",
    "    print('True Positive Rate', true_positive_rate)\n",
    "    \n",
    "    # Plot ROC curve\n",
    "    fpr, tpr, thresholds = roc_curve(y_true==class_1, y_pred_proba)\n",
    "    plt.plot(fpr, tpr)\n",
    "    plt.title('ROC curve')\n",
    "    plt.xlabel('False Positive Rate')\n",
    "    plt.ylabel('True Positive Rate')\n",
    "    \n",
    "    # Plot point on ROC curve for the current threshold\n",
    "    plt.scatter(false_positive_rate, true_positive_rate)\n",
    "    plt.show()\n",
    "    \n",
    "    # Show ROC AUC score\n",
    "    print('Area under the Receiver Operating Characteristic curve:', \n",
    "          roc_auc_score(y_true, y_pred_proba))\n",
    "    \n",
    "    # Show confusion matrix & classification report\n",
    "    plot_confusion_matrix(y_true, y_pred)\n",
    "    print(classification_report(y_true, y_pred))\n",
    "\n",
    "interact(set_threshold, \n",
    "         y_true=fixed(y_val), \n",
    "         y_pred_proba=fixed(y_pred_proba), \n",
    "         threshold=(0,1,0.05));"
   ]
  },
  {
   "cell_type": "markdown",
   "metadata": {},
   "source": [
    "### Use the class_weight parameter in scikit-learn"
   ]
  },
  {
   "cell_type": "markdown",
   "metadata": {},
   "source": [
    "Here's a fun demo you can explore! The next code cells do five things:\n",
    "\n",
    "#### 1. Generate data\n",
    "\n",
    "We use scikit-learn's [make_classification](https://scikit-learn.org/stable/modules/generated/sklearn.datasets.make_classification.html) function to generate fake data for a binary classification problem, based on several parameters, including:\n",
    "- Number of samples\n",
    "- Weights, meaning \"the proportions of samples assigned to each class.\"\n",
    "- Class separation: \"Larger values spread out the clusters/classes and make the classification task easier.\"\n",
    "\n",
    "(We are generating fake data so it is easy to visualize.)\n",
    "\n",
    "#### 2. Split data\n",
    "\n",
    "We split the data three ways, into train, validation, and test sets. (For this toy example, it's not really necessary to do a three-way split. A two-way split, or even no split, would be ok. But I'm trying to demonstrate good habits, even in toy examples, to avoid confusion.)\n",
    "\n",
    "#### 3. Fit model\n",
    "\n",
    "We use scikit-learn to fit a [Logistic Regression](https://scikit-learn.org/stable/modules/generated/sklearn.linear_model.LogisticRegression.html) on the training data.\n",
    "\n",
    "We use this model parameter:\n",
    "\n",
    "> **class_weight : _dict or ‘balanced’, default: None_**\n",
    "\n",
    "> Weights associated with classes in the form `{class_label: weight}`. If not given, all classes are supposed to have weight one.\n",
    "\n",
    "> The “balanced” mode uses the values of y to automatically adjust weights inversely proportional to class frequencies in the input data as `n_samples / (n_classes * np.bincount(y))`.\n",
    "\n",
    "\n",
    "#### 4. Evaluate model\n",
    "\n",
    "We use our Logistic Regression model, which was fit on the training data, to generate predictions for the validation data.\n",
    "\n",
    "Then we print [scikit-learn's Classification Report](https://scikit-learn.org/stable/modules/model_evaluation.html#classification-report), with many metrics, and also the accuracy score. We are comparing the correct labels to the Logistic Regression's predicted labels, for the validation set. \n",
    "\n",
    "#### 5. Visualize decision function\n",
    "\n",
    "Based on these examples\n",
    "- https://imbalanced-learn.readthedocs.io/en/stable/auto_examples/combine/plot_comparison_combine.html\n",
    "- http://rasbt.github.io/mlxtend/user_guide/plotting/plot_decision_regions/#example-1-decision-regions-in-2d"
   ]
  },
  {
   "cell_type": "code",
   "execution_count": 36,
   "metadata": {},
   "outputs": [],
   "source": [
    "from sklearn.model_selection import train_test_split\n",
    "\n",
    "#train/val/test split helper function\n",
    "def train_validation_test_split(\n",
    "    X, y, train_size=0.8, val_size=0.1, test_size=0.1, \n",
    "    random_state=None, shuffle=True):\n",
    "        \n",
    "    assert train_size + val_size + test_size == 1\n",
    "    \n",
    "    X_train_val, X_test, y_train_val, y_test = train_test_split(\n",
    "        X, y, test_size=test_size, random_state=random_state, shuffle=shuffle)\n",
    "    \n",
    "    X_train, X_val, y_train, y_val = train_test_split(\n",
    "        X_train_val, y_train_val, test_size=val_size/(train_size+val_size), \n",
    "        random_state=random_state, shuffle=shuffle)\n",
    "    \n",
    "    return X_train, X_val, X_test, y_train, y_val, y_test"
   ]
  },
  {
   "cell_type": "code",
   "execution_count": 68,
   "metadata": {},
   "outputs": [
    {
     "name": "stdout",
     "output_type": "stream",
     "text": [
      "              precision    recall  f1-score   support\n",
      "\n",
      "           0       1.00      0.29      0.45        96\n",
      "           1       0.06      1.00      0.11         4\n",
      "\n",
      "   micro avg       0.32      0.32      0.32       100\n",
      "   macro avg       0.53      0.65      0.28       100\n",
      "weighted avg       0.96      0.32      0.44       100\n",
      "\n"
     ]
    },
    {
     "data": {
      "image/png": "[encoded data removed]",
      "text/plain": [
       "<Figure size 432x288 with 2 Axes>"
      ]
     },
     "metadata": {
      "needs_background": "light"
     },
     "output_type": "display_data"
    },
    {
     "data": {
      "image/png": "[encoded data removed]",
      "text/plain": [
       "<Figure size 720x432 with 1 Axes>"
      ]
     },
     "metadata": {
      "needs_background": "light"
     },
     "output_type": "display_data"
    }
   ],
   "source": [
    "%matplotlib inline\n",
    "from IPython.display import display\n",
    "import matplotlib.pyplot as plt\n",
    "from sklearn.datasets import make_classification\n",
    "from sklearn.metrics import accuracy_score, classification_report\n",
    "from sklearn.linear_model import LogisticRegression\n",
    "from mlxtend.plotting import plot_decision_regions\n",
    "\n",
    "\n",
    "#1. Generate data\n",
    "\n",
    "# Try re-running the cell with different values for these parameters\n",
    "n_samples = 1000\n",
    "weights = (0.9,0.0)\n",
    "class_sep = 1\n",
    "\n",
    "X, y = make_classification(n_samples=n_samples, n_features=2, n_informative=2, \n",
    "                           n_redundant=0, n_repeated=0, n_classes=2, \n",
    "                           n_clusters_per_class=1, weights=weights, \n",
    "                           class_sep=class_sep, random_state=0)\n",
    "\n",
    "\n",
    "# 2. Split data\n",
    "\n",
    "# Uses our custom train_validation_test_split function\n",
    "X_train, X_val, X_test, y_train, y_val, y_test = train_validation_test_split(\n",
    "    X, y, train_size=0.8, val_size=0.1, test_size=0.1, random_state=1)\n",
    "\n",
    "\n",
    "# 3. Fit model\n",
    "\n",
    "# Try re-running the cell with different values for this parameter\n",
    "#class_weight = 'balanced'\n",
    "class_weight = {0: 1, 1: 1000}\n",
    "\n",
    "model = LogisticRegression(solver='lbfgs', class_weight=class_weight)\n",
    "model.fit(X_train, y_train)\n",
    "\n",
    "\n",
    "# 4. Evaluate model\n",
    "\n",
    "y_pred = model.predict(X_val)\n",
    "print(classification_report(y_val, y_pred))\n",
    "plot_confusion_matrix(y_val, y_pred)\n",
    "\n",
    "# 5. Visualize decision regions\n",
    "\n",
    "plt.figure(figsize=(10, 6))\n",
    "plot_decision_regions(X_val, y_val, model, legend=0);"
   ]
  },
  {
   "cell_type": "markdown",
   "metadata": {},
   "source": [
    "Try re-running the cell above with different values for these four parameters:\n",
    "- `n_samples`\n",
    "- `weights`\n",
    "- `class_sep`\n",
    "- `class_balance`\n",
    "\n",
    "For example, with a 50% / 50% class distribution:\n",
    "```\n",
    "n_samples = 1000\n",
    "weights = (0.50, 0.50)\n",
    "class_sep = 0.8\n",
    "class_balance = None\n",
    "```\n",
    "\n",
    "With a 95% / 5% class distribution:\n",
    "```\n",
    "n_samples = 1000\n",
    "weights = (0.95, 0.05)\n",
    "class_sep = 0.8\n",
    "class_balance = None\n",
    "```\n",
    "\n",
    "With the same 95% / 5% class distribution, but changing the Logistic Regression's `class_balance` parameter to `'balanced'` (instead of its default `None`)\n",
    "```\n",
    "n_samples = 1000\n",
    "weights = (0.95, 0.05)\n",
    "class_sep = 0.8\n",
    "class_balance = 'balanced'\n",
    "```\n",
    "\n",
    "With the same 95% / 5% class distribution, but with different values for `class_balance`:\n",
    "- `{0: 1, 1: 1}` _(equivalent to `None`)_\n",
    "- `{0: 1, 1: 2}`\n",
    "- `{0: 1, 1: 10}` _(roughly equivalent to `'balanced'` for this dataset)_\n",
    "- `{0: 1, 1: 100}`\n",
    "- `{0: 1, 1: 10000}`\n",
    "\n",
    "How do the evaluation metrics and decision region plots change?"
   ]
  },
  {
   "cell_type": "markdown",
   "metadata": {},
   "source": [
    "## What you can do about imbalanced classes\n",
    "\n",
    "[Learning from Imbalanced Classes](https://www.svds.com/tbt-learning-imbalanced-classes/) gives \"a rough outline of useful approaches\" : \n",
    "\n",
    "- Do nothing. Sometimes you get lucky and nothing needs to be done. You can train on the so-called natural (or stratified) distribution and sometimes it works without need for modification.\n",
    "- Balance the training set in some way:\n",
    "  - Oversample the minority class.\n",
    "  - Undersample the majority class.\n",
    "  - Synthesize new minority classes.\n",
    "- Throw away minority examples and switch to an anomaly detection framework.\n",
    "- At the algorithm level, or after it:\n",
    "  - Adjust the class weight (misclassification costs).\n",
    "  - Adjust the decision threshold.\n",
    "  - Modify an existing algorithm to be more sensitive to rare classes.\n",
    "- Construct an entirely new algorithm to perform well on imbalanced data.\n",
    "\n",
    "#### We demonstrated two of these options: \n",
    "\n",
    "- \"Adjust the class weight (misclassification costs)\" — many scikit-learn classifiers have a `class_balance` parameter\n",
    "- \"Adjust the decision threshold\" — you can lean more about this in a great blog post, [Visualizing Machine Learning Thresholds to Make Better Business Decisions](https://blog.insightdatascience.com/visualizing-machine-learning-thresholds-to-make-better-business-decisions-4ab07f823415).\n",
    "\n",
    "#### Another option to be aware of:\n",
    "- The [imbalance-learn](https://github.com/scikit-learn-contrib/imbalanced-learn) library can be used to \"oversample the minority class, undersample the majority class, or synthesize new minority classes.\""
   ]
  },
  {
   "cell_type": "markdown",
   "metadata": {},
   "source": [
    "# ASSIGNMENT\n",
    "\n",
    "- Wrangle and model the Lending Club data. Improve your ROC AUC score! Discuss on Slack.\n",
    "- Explore the class_weight demo.\n",
    "- Read the pre-reads (if you haven't already)\n",
    "  - [ROC curves and Area Under the Curve explained](https://www.dataschool.io/roc-curves-and-auc-explained/)\n",
    "  - [Learning from Imbalanced Classes](https://www.svds.com/tbt-learning-imbalanced-classes/)\n",
    "\n",
    "### Stretch Goals\n",
    "\n",
    "Explore these links!\n",
    "\n",
    "- [imbalance-learn](https://github.com/scikit-learn-contrib/imbalanced-learn)\n",
    "- [Machine Learning Meets Economics](http://blog.mldb.ai/blog/posts/2016/01/ml-meets-economics/)\n",
    "- [The philosophical argument for using ROC curves](https://lukeoakdenrayner.wordpress.com/2018/01/07/the-philosophical-argument-for-using-roc-curves/)\n",
    "- [Visualizing Machine Learning Thresholds to Make Better Business Decisions](https://blog.insightdatascience.com/visualizing-machine-learning-thresholds-to-make-better-business-decisions-4ab07f823415)"
   ]
  }
 ],
 "metadata": {
  "kernelspec": {
   "display_name": "Python 3",
   "language": "python",
   "name": "python3"
  },
  "language_info": {
   "codemirror_mode": {
    "name": "ipython",
    "version": 3
   },
   "file_extension": ".py",
   "mimetype": "text/x-python",
   "name": "python",
   "nbconvert_exporter": "python",
   "pygments_lexer": "ipython3",
   "version": "3.7.3"
  }
 },
 "nbformat": 4,
 "nbformat_minor": 2
}
