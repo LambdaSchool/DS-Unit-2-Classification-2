{
 "cells": [
  {
   "cell_type": "code",
   "execution_count": null,
   "metadata": {},
   "outputs": [],
   "source": [
    "from sklearn.ensemble import RandomForestClassifier\n",
    "from sklearn.metrics import accuracy_score, precision_recall_fscore_support, classification_report, roc_auc_score, SCORERS \n",
    "from sklearn.model_selection import train_test_split, RandomizedSearchCV\n",
    "from sklearn.pipeline import make_pipeline\n",
    "import eli5\n",
    "from eli5.sklearn import PermutationImportance\n",
    "import numpy as np\n",
    "import seaborn as sns\n",
    "import pandas as pd\n",
    "import category_encoders as ce\n",
    "from glob import glob\n",
    "from xgboost import XGBClassifier\n",
    "from pdpbox.pdp import pdp_isolate, pdp_plot, pdp_interact, pdp_interact_plot\n",
    "from zipfile import ZipFile\n",
    "from sklearn.impute import SimpleImputer\n",
    "from scipy.stats import randint, uniform"
   ]
  },
  {
   "cell_type": "code",
   "execution_count": null,
   "metadata": {},
   "outputs": [],
   "source": [
    "pd.options.display.max_columns= 150"
   ]
  },
  {
   "cell_type": "markdown",
   "metadata": {},
   "source": [
    "# Datasets"
   ]
  },
  {
   "cell_type": "code",
   "execution_count": null,
   "metadata": {},
   "outputs": [],
   "source": [
    "current= pd.read_csv('primaryMarketNotes_browseNotes_1-RETAIL.csv')"
   ]
  },
  {
   "cell_type": "code",
   "execution_count": null,
   "metadata": {},
   "outputs": [],
   "source": [
    "dictionary1= pd.read_excel('LCDataDictionary.xlsx', sheet_name=0)"
   ]
  },
  {
   "cell_type": "code",
   "execution_count": null,
   "metadata": {},
   "outputs": [],
   "source": [
    "dictionary2= pd.read_excel('LCDataDictionary.xlsx', sheet_name=1)"
   ]
  },
  {
   "cell_type": "code",
   "execution_count": null,
   "metadata": {},
   "outputs": [],
   "source": [
    "historical= pd.read_csv('historical.csv')"
   ]
  },
  {
   "cell_type": "markdown",
   "metadata": {},
   "source": [
    "# Data Wrangling/ Preprocessing"
   ]
  },
  {
   "cell_type": "code",
   "execution_count": null,
   "metadata": {},
   "outputs": [],
   "source": [
    "historical['emp_title'] = historical['emp_title'].str.lower()\n",
    "historical['emp_title_teacher'] = historical['emp_title'].str.contains('teacher', na=False)\n",
    "historical['emp_title_manager'] = historical['emp_title'].str.contains('manager', na=False)\n",
    "historical['emp_title_owner']  = historical['emp_title'].str.contains('owner', na=False)"
   ]
  },
  {
   "cell_type": "code",
   "execution_count": null,
   "metadata": {},
   "outputs": [],
   "source": [
    "current['emp_title'] = current['emp_title'].str.lower()\n",
    "current['emp_title_teacher'] = current['emp_title'].str.contains('teacher', na=False)\n",
    "current['emp_title_manager'] = current['emp_title'].str.contains('manager', na=False)\n",
    "current['emp_title_owner']  = current['emp_title'].str.contains('owner', na=False)"
   ]
  },
  {
   "cell_type": "code",
   "execution_count": null,
   "metadata": {},
   "outputs": [],
   "source": [
    "def string_to_float(df):\n",
    "    df['int_rate'] = df['int_rate'].str.strip('%').astype(float)\n",
    "    df['revol_util'] = df['revol_util'].str.strip('%').astype(float)"
   ]
  },
  {
   "cell_type": "code",
   "execution_count": null,
   "metadata": {},
   "outputs": [],
   "source": [
    "string_to_float(historical)"
   ]
  },
  {
   "cell_type": "code",
   "execution_count": null,
   "metadata": {},
   "outputs": [],
   "source": [
    "common_columns = set(historical.columns) & set(current.columns)\n",
    "just_historical = set(historical.columns) - set(current.columns)\n",
    "just_current = set(current.columns) - set(historical.columns)"
   ]
  },
  {
   "cell_type": "code",
   "execution_count": null,
   "metadata": {},
   "outputs": [],
   "source": [
    "features= list(common_columns)\n",
    "features.append('loan_status')"
   ]
  },
  {
   "cell_type": "code",
   "execution_count": null,
   "metadata": {},
   "outputs": [],
   "source": [
    "training_historical= historical[features]"
   ]
  },
  {
   "cell_type": "code",
   "execution_count": null,
   "metadata": {},
   "outputs": [],
   "source": [
    "train, test= train_test_split(training_historical, train_size= .8, stratify= historical['loan_status'], random_state=42)"
   ]
  },
  {
   "cell_type": "code",
   "execution_count": null,
   "metadata": {},
   "outputs": [],
   "source": [
    "train.shape, test.shape"
   ]
  },
  {
   "cell_type": "code",
   "execution_count": null,
   "metadata": {},
   "outputs": [],
   "source": [
    "X_train, X_val = train_test_split(train, train_size= .8, stratify= train['loan_status'], random_state=42)"
   ]
  },
  {
   "cell_type": "code",
   "execution_count": null,
   "metadata": {},
   "outputs": [],
   "source": [
    "X_train.shape, X_val.shape"
   ]
  },
  {
   "cell_type": "code",
   "execution_count": null,
   "metadata": {},
   "outputs": [],
   "source": [
    "train_target= X_train['loan_status']\n",
    "val_target= X_val['loan_status']\n",
    "test_target= test['loan_status']\n",
    "\n",
    "train_features= X_train.drop(columns='loan_status').fillna('Unknown')\n",
    "val_features= X_val.drop(columns='loan_status').fillna('Unknown')\n",
    "test_features=  test.drop(columns='loan_status').fillna('Unknown')"
   ]
  },
  {
   "cell_type": "code",
   "execution_count": null,
   "metadata": {},
   "outputs": [],
   "source": [
    "encoder= ce.OrdinalEncoder()\n",
    "\n",
    "train_encoded= encoder.fit_transform(train_features)\n",
    "val_encoded= encoder.transform(val_features)\n",
    "test_encoded= encoder.transform(test_features)"
   ]
  },
  {
   "cell_type": "markdown",
   "metadata": {},
   "source": [
    "# Random Forest Model Pre Optimization"
   ]
  },
  {
   "cell_type": "code",
   "execution_count": null,
   "metadata": {},
   "outputs": [],
   "source": [
    "forest= RandomForestClassifier(random_state=42, n_jobs=-1)"
   ]
  },
  {
   "cell_type": "code",
   "execution_count": null,
   "metadata": {},
   "outputs": [],
   "source": [
    "forest.fit(train_encoded, train_target)"
   ]
  },
  {
   "cell_type": "markdown",
   "metadata": {},
   "source": [
    "# Scores for Random Forest"
   ]
  },
  {
   "cell_type": "code",
   "execution_count": null,
   "metadata": {},
   "outputs": [],
   "source": [
    "val_pred_proba= forest.predict_proba(val_encoded)[:,1]\n",
    "\n",
    "val_roc_auc= roc_auc_score(val_target, val_pred_proba)\n",
    "\n",
    "print(f'Val ROC AUC: {val_roc_auc}')"
   ]
  },
  {
   "cell_type": "code",
   "execution_count": null,
   "metadata": {},
   "outputs": [],
   "source": [
    "test_pred_proba= forest.predict_proba(test_encoded)[:,1]\n",
    "\n",
    "test_roc_auc= roc_auc_score(test_target, test_pred_proba)\n",
    "\n",
    "print(f'Test ROC AUC: {test_roc_auc}')"
   ]
  },
  {
   "cell_type": "code",
   "execution_count": null,
   "metadata": {
    "scrolled": true
   },
   "outputs": [],
   "source": [
    "precision, recall, _, _= precision_recall_fscore_support(val_pred, val_target)\n",
    "print(f'Precision: {precision}\\nRecall: {recall}')"
   ]
  },
  {
   "cell_type": "code",
   "execution_count": null,
   "metadata": {},
   "outputs": [],
   "source": [
    "precision, recall, _, _= precision_recall_fscore_support(test_pred, test_target)\n",
    "print(f'Precision: {precision}\\nRecall: {recall}')"
   ]
  },
  {
   "cell_type": "markdown",
   "metadata": {},
   "source": [
    "# Hyper Parameter Tuning for RandomForest"
   ]
  },
  {
   "cell_type": "code",
   "execution_count": null,
   "metadata": {},
   "outputs": [],
   "source": [
    "param_distributions = {\n",
    "    'n_estimators': randint(100, 1000),\n",
    "    'max_depth': randint(3, 10),\n",
    "    'min_samples_leaf': [1, 2, 4, 6, 8]\n",
    "}\n",
    "\n",
    "search = RandomizedSearchCV(\n",
    "    forest,\n",
    "    param_distributions= param_distributions,\n",
    "    n_iter=2,\n",
    "    cv=10,\n",
    "    scoring='roc_auc',\n",
    "    n_jobs=-1\n",
    ")\n",
    "\n",
    "search.fit(train_encoded, train_target)"
   ]
  },
  {
   "cell_type": "code",
   "execution_count": null,
   "metadata": {},
   "outputs": [],
   "source": [
    "print('Best hyperparameters', search.best_params_)\n",
    "print('Best roc auc', (search.best_score_))"
   ]
  },
  {
   "cell_type": "markdown",
   "metadata": {},
   "source": [
    "# Random Forest Post Parameter Optimization"
   ]
  },
  {
   "cell_type": "code",
   "execution_count": null,
   "metadata": {},
   "outputs": [],
   "source": [
    "hyper_forest= RandomForestClassifier(max_depth= 7, min_samples_leaf= 8, n_estimators= 113, random_state=42)"
   ]
  },
  {
   "cell_type": "code",
   "execution_count": null,
   "metadata": {},
   "outputs": [],
   "source": [
    "hyper_forest.fit(train_encoded, train_target)"
   ]
  },
  {
   "cell_type": "markdown",
   "metadata": {},
   "source": [
    "# Random Forest scores Post Parameter Optimization"
   ]
  },
  {
   "cell_type": "code",
   "execution_count": null,
   "metadata": {},
   "outputs": [],
   "source": [
    "val_pred_proba= hyper_forest.predict_proba(val_encoded)[:,1]\n",
    "\n",
    "val_roc_auc= roc_auc_score(val_target, val_pred_proba)\n",
    "\n",
    "print(f'Val ROC AUC: {val_roc_auc}')"
   ]
  },
  {
   "cell_type": "code",
   "execution_count": null,
   "metadata": {},
   "outputs": [],
   "source": [
    "test_pred_proba= hyper_forest.predict_proba(test_encoded)[:,1]\n",
    "\n",
    "test_roc_auc= roc_auc_score(test_target, test_pred_proba)\n",
    "\n",
    "print(f'Test ROC AUC: {test_roc_auc}')"
   ]
  },
  {
   "cell_type": "code",
   "execution_count": null,
   "metadata": {},
   "outputs": [],
   "source": [
    "precision, recall, _, _= precision_recall_fscore_support(val_pred, val_target)\n",
    "\n",
    "print(f'Precision: {precision}\\nRecall: {recall}')"
   ]
  },
  {
   "cell_type": "code",
   "execution_count": null,
   "metadata": {},
   "outputs": [],
   "source": [
    "precision, recall, _, _= precision_recall_fscore_support(test_pred, test_target)\n",
    "\n",
    "print(f'Precision: {precision}\\nRecall: {recall}')"
   ]
  },
  {
   "cell_type": "markdown",
   "metadata": {},
   "source": [
    "# XGB model Pre Optimization"
   ]
  },
  {
   "cell_type": "code",
   "execution_count": null,
   "metadata": {},
   "outputs": [],
   "source": [
    "booster= XGBClassifier(random_state=42, n_jobs= -1)"
   ]
  },
  {
   "cell_type": "code",
   "execution_count": null,
   "metadata": {},
   "outputs": [],
   "source": [
    "booster.fit(train_encoded, train_target)"
   ]
  },
  {
   "cell_type": "markdown",
   "metadata": {},
   "source": [
    "# Scores for XGB"
   ]
  },
  {
   "cell_type": "code",
   "execution_count": null,
   "metadata": {},
   "outputs": [],
   "source": [
    "val_pred_proba= booster.predict_proba(val_encoded)[:,1]\n",
    "\n",
    "val_roc_auc= roc_auc_score(val_target, val_pred_proba)\n",
    "\n",
    "print(f'Val ROC AUC: {val_roc_auc}')"
   ]
  },
  {
   "cell_type": "code",
   "execution_count": null,
   "metadata": {},
   "outputs": [],
   "source": [
    "test_pred_proba= booster.predict_proba(test_encoded)[:,1]\n",
    "\n",
    "test_roc_auc= roc_auc_score(test_target, test_pred_proba)\n",
    "\n",
    "print(f'Test ROC AUC: {test_roc_auc}')"
   ]
  },
  {
   "cell_type": "code",
   "execution_count": null,
   "metadata": {},
   "outputs": [],
   "source": [
    "precision, recall, _, _= precision_recall_fscore_support(val_pred, val_target)\n",
    "\n",
    "print(f'Precision: {precision}\\nRecall: {recall}')"
   ]
  },
  {
   "cell_type": "code",
   "execution_count": null,
   "metadata": {},
   "outputs": [],
   "source": [
    "precision, recall, _, _= precision_recall_fscore_support(test_pred, test_target)\n",
    "\n",
    "print(f'Precision: {precision}\\nRecall: {recall}')"
   ]
  },
  {
   "cell_type": "markdown",
   "metadata": {},
   "source": [
    "# Hyper Parameter Tuning for XGB"
   ]
  },
  {
   "cell_type": "code",
   "execution_count": null,
   "metadata": {},
   "outputs": [],
   "source": [
    "param_distributions = {\n",
    "    'n_estimators': randint(100, 500),\n",
    "    'max_depth': randint(3, 8),\n",
    "    'booster' : ['gbtree', 'gblinear', 'dart']\n",
    "}\n",
    "\n",
    "search = RandomizedSearchCV(\n",
    "    booster,\n",
    "    param_distributions= param_distributions,\n",
    "    n_iter=3,\n",
    "    cv=10,\n",
    "    scoring='roc_auc',\n",
    "    n_jobs=-1\n",
    ")\n",
    "\n",
    "search.fit(train_encoded, train_target)"
   ]
  },
  {
   "cell_type": "code",
   "execution_count": null,
   "metadata": {},
   "outputs": [],
   "source": [
    "print('Best hyperparameters', search.best_params_)\n",
    "print('Best roc auc', (search.best_score_))"
   ]
  },
  {
   "cell_type": "markdown",
   "metadata": {},
   "source": [
    "# XGB Model Post Hyper Parameter Optimization"
   ]
  },
  {
   "cell_type": "code",
   "execution_count": null,
   "metadata": {},
   "outputs": [],
   "source": [
    "hyper_booster= XGBClassifier(booster= 'dart', max_depth= 7, n_estimators= 261)"
   ]
  },
  {
   "cell_type": "code",
   "execution_count": null,
   "metadata": {},
   "outputs": [],
   "source": [
    "hyper_booster.fit(train_encoded, train_target)"
   ]
  },
  {
   "cell_type": "markdown",
   "metadata": {},
   "source": [
    "# Scores for XGB Model"
   ]
  },
  {
   "cell_type": "code",
   "execution_count": null,
   "metadata": {},
   "outputs": [],
   "source": [
    "val_pred_proba= hyper_booster.predict_proba(val_encoded)[:,1]\n",
    "\n",
    "val_roc_auc= roc_auc_score(val_target, val_pred_proba)\n",
    "\n",
    "print(f'Val ROC AUC: {val_roc_auc}')"
   ]
  },
  {
   "cell_type": "code",
   "execution_count": null,
   "metadata": {},
   "outputs": [],
   "source": [
    "test_pred_proba= booster.predict_proba(test_final)[:,1]\n",
    "\n",
    "test_roc_auc= roc_auc_score(test_target, test_pred_proba)\n",
    "\n",
    "print(f'Test ROC AUC: {test_roc_auc}')"
   ]
  },
  {
   "cell_type": "markdown",
   "metadata": {},
   "source": [
    "# Permutations to find feature weights"
   ]
  },
  {
   "cell_type": "code",
   "execution_count": null,
   "metadata": {},
   "outputs": [],
   "source": [
    "permuter = PermutationImportance(booster,cv='prefit', n_iter=3, random_state=42)\n",
    "\n",
    "permuter.fit(val_encoded, val_target)"
   ]
  },
  {
   "cell_type": "code",
   "execution_count": null,
   "metadata": {
    "scrolled": true
   },
   "outputs": [],
   "source": [
    "feature_names = val_encoded.columns.tolist()\n",
    "\n",
    "eli5.show_weights(permuter, top=None, feature_names=feature_names)"
   ]
  },
  {
   "cell_type": "code",
   "execution_count": null,
   "metadata": {},
   "outputs": [],
   "source": [
    "print('Shapes before removing features:', train_encoded.shape, val_encoded.shape, test_encoded.shape)\n",
    " \n",
    "mask = permuter.feature_importances_ > 0\n",
    "#grabbing features using bools\n",
    "features = train_encoded.columns[mask]\n",
    "\n",
    "#dataframes with only weighted features\n",
    "train_final = train_encoded[features]\n",
    "val_final = val_encoded[features]\n",
    "test_final= test_encoded[features]\n",
    "\n",
    "print('Shapes after removing features:', train_final.shape, val_final.shape, test_final.shape)"
   ]
  },
  {
   "cell_type": "markdown",
   "metadata": {},
   "source": [
    "# XGB model Pre Hyper Parameter Optimization, Post Feature Reduction"
   ]
  },
  {
   "cell_type": "code",
   "execution_count": null,
   "metadata": {},
   "outputs": [],
   "source": [
    "booster.fit(train_final, train_target)"
   ]
  },
  {
   "cell_type": "markdown",
   "metadata": {},
   "source": [
    "# XGB Scores"
   ]
  },
  {
   "cell_type": "code",
   "execution_count": null,
   "metadata": {},
   "outputs": [],
   "source": [
    "val_pred_proba= booster.predict_proba(val_final)[:,1]\n",
    "\n",
    "val_roc_auc= roc_auc_score(val_target, val_pred_proba)\n",
    "\n",
    "print(f'Val ROC AUC: {val_roc_auc}')"
   ]
  },
  {
   "cell_type": "code",
   "execution_count": null,
   "metadata": {},
   "outputs": [],
   "source": [
    "test_pred_proba= booster.predict_proba(test_final)[:,1]\n",
    "\n",
    "test_roc_auc= roc_auc_score(test_target, test_pred_proba)\n",
    "\n",
    "print(f'Test ROC AUC: {test_roc_auc}')"
   ]
  }
 ],
 "metadata": {
  "kernelspec": {
   "display_name": "Python 3",
   "language": "python",
   "name": "python3"
  },
  "language_info": {
   "codemirror_mode": {
    "name": "ipython",
    "version": 3
   },
   "file_extension": ".py",
   "mimetype": "text/x-python",
   "name": "python",
   "nbconvert_exporter": "python",
   "pygments_lexer": "ipython3",
   "version": "3.7.3"
  }
 },
 "nbformat": 4,
 "nbformat_minor": 2
}
