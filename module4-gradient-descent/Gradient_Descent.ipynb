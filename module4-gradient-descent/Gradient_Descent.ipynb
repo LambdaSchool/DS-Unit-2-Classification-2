{
 "cells": [
  {
   "cell_type": "code",
   "execution_count": 1,
   "metadata": {},
   "outputs": [],
   "source": [
    "import numpy as np\n",
    "import pandas as pd\n",
    "import seaborn as sns\n",
    "import matplotlib.pyplot as plt\n",
    "from ipywidgets import interact, fixed\n",
    "%matplotlib inline\n",
    "sns.set_context('poster')"
   ]
  },
  {
   "cell_type": "code",
   "execution_count": 2,
   "metadata": {},
   "outputs": [
    {
     "data": {
      "image/png": "[encoded data removed]",
      "text/plain": [
       "<Figure size 432x288 with 1 Axes>"
      ]
     },
     "metadata": {
      "needs_background": "light"
     },
     "output_type": "display_data"
    }
   ],
   "source": [
    "# Plot f(x) = x^2\n",
    "xs = np.linspace(-1, 1)\n",
    "squares = xs ** 2\n",
    "plt.plot(xs, squares)\n",
    "plt.xlabel('x')\n",
    "plt.ylabel('f(x) = x^2)');"
   ]
  },
  {
   "cell_type": "code",
   "execution_count": 385,
   "metadata": {},
   "outputs": [],
   "source": [
    "def check_slope(x=np.random.uniform(-1, 1)):\n",
    "    xs = np.linspace(-1, 1)\n",
    "    squares = xs ** 2\n",
    "    plt.plot(xs, squares)\n",
    "    plt.xlabel('x')\n",
    "    plt.ylabel('f(x) = x^2')\n",
    "    \n",
    "    y = x ** 2\n",
    "    plt.scatter(x, y)\n",
    "    \n",
    "    derivative = 2 * x\n",
    "    print(f'Gradient: {derivative}')\n",
    "    \n",
    "    if derivative > 0:\n",
    "        print('move left')\n",
    "    if derivative < 0:\n",
    "        print('move right')\n",
    "    else:\n",
    "        print('local minimum found at {x}')"
   ]
  },
  {
   "cell_type": "code",
   "execution_count": 386,
   "metadata": {},
   "outputs": [
    {
     "data": {
      "application/vnd.jupyter.widget-view+json": {
       "model_id": "26777e9653c34a828fb9bac05718a3e4",
       "version_major": 2,
       "version_minor": 0
      },
      "text/plain": [
       "interactive(children=(FloatSlider(value=-0.8806890731754919, description='x', max=1.0, min=-1.0, step=0.05), O…"
      ]
     },
     "metadata": {},
     "output_type": "display_data"
    },
    {
     "data": {
      "text/plain": [
       "<function __main__.check_slope(x=-0.8806890731754919)>"
      ]
     },
     "execution_count": 386,
     "metadata": {},
     "output_type": "execute_result"
    }
   ],
   "source": [
    "interact(check_slope,\n",
    "         x=(-1, 1, .05))"
   ]
  },
  {
   "cell_type": "code",
   "execution_count": 5,
   "metadata": {},
   "outputs": [
    {
     "name": "stdout",
     "output_type": "stream",
     "text": [
      "-0.5474362555266941\n",
      "-0.43794900442135526\n",
      "-0.3503592035370842\n",
      "-0.2802873628296674\n",
      "-0.2242298902637339\n",
      "-0.17938391221098712\n",
      "-0.1435071297687897\n",
      "-0.11480570381503177\n",
      "-0.09184456305202542\n",
      "-0.07347565044162033\n",
      "-0.05878052035329626\n",
      "-0.04702441628263701\n",
      "-0.03761953302610961\n",
      "-0.03009562642088769\n",
      "-0.02407650113671015\n",
      "-0.01926120090936812\n",
      "-0.015408960727494498\n",
      "-0.012327168581995599\n",
      "-0.009861734865596479\n",
      "-0.007889387892477184\n"
     ]
    }
   ],
   "source": [
    "iterations = 20\n",
    "learning_rate = 0.1\n",
    "x = np.random.uniform(-1, 1)\n",
    "\n",
    "for _ in range(iterations):\n",
    "    gradient = 2 * x\n",
    "    x += learning_rate * -gradient\n",
    "    print(x)"
   ]
  },
  {
   "cell_type": "code",
   "execution_count": 6,
   "metadata": {},
   "outputs": [],
   "source": [
    "def gradient_descent(start=np.random.uniform(-1, 1),\n",
    "                     iterations=20,\n",
    "                     learning_rate=0.1):\n",
    "    xs = np.linspace(-1, 1)\n",
    "    squares = xs ** 2\n",
    "    plt.plot(xs, squares)\n",
    "    plt.xlabel('x')\n",
    "    plt.ylabel('f(x) = x^2')\n",
    "    \n",
    "    x = start\n",
    "    for _ in range(iterations):\n",
    "        gradient = 2 * x\n",
    "        x += learning_rate * -gradient\n",
    "        y = x ** 2\n",
    "        plt.scatter(x, y, color='gray', edgecolor='black', zorder=3)"
   ]
  },
  {
   "cell_type": "code",
   "execution_count": 8,
   "metadata": {},
   "outputs": [
    {
     "data": {
      "application/vnd.jupyter.widget-view+json": {
       "model_id": "de931096a5ee40c9926af0dba4fe3f9e",
       "version_major": 2,
       "version_minor": 0
      },
      "text/plain": [
       "interactive(children=(FloatSlider(value=-0.06263435674202622, description='start', max=1.0, min=-1.0), IntSlid…"
      ]
     },
     "metadata": {},
     "output_type": "display_data"
    },
    {
     "data": {
      "text/plain": [
       "<function __main__.gradient_descent(start=-0.06263435674202622, iterations=20, learning_rate=0.1)>"
      ]
     },
     "execution_count": 8,
     "metadata": {},
     "output_type": "execute_result"
    }
   ],
   "source": [
    "interact(gradient_descent,\n",
    "         start=(-1, 1, 0.1),\n",
    "         iterations=(1, 20, 1),\n",
    "         learning_rate=(0.05, 0.95, .05))"
   ]
  },
  {
   "cell_type": "code",
   "execution_count": 9,
   "metadata": {},
   "outputs": [],
   "source": [
    "data = sns.load_dataset('anscombe').query('dataset==\"I\"')"
   ]
  },
  {
   "cell_type": "code",
   "execution_count": 595,
   "metadata": {},
   "outputs": [
    {
     "data": {
      "application/vnd.jupyter.widget-view+json": {
       "model_id": "625e6e1a0da94202888e8a024920e84d",
       "version_major": 2,
       "version_minor": 0
      },
      "text/plain": [
       "interactive(children=(FloatSlider(value=-0.1, description='m', max=1.0, min=-1.0, step=0.05), IntSlider(value=…"
      ]
     },
     "metadata": {},
     "output_type": "display_data"
    }
   ],
   "source": [
    "data = sns.load_dataset('anscombe').query('dataset==\"I\"')\n",
    "\n",
    "def linear_regression(m=-0.1, b=3, data=data):\n",
    "    \n",
    "    # Plot points in data.\n",
    "    sns.relplot('x', 'y', data=data)\n",
    "    \n",
    "    # Plot line created with our inputs.\n",
    "    y_pred = m * data['x'] + b\n",
    "    plt.plot(data['x'], y_pred)\n",
    "    plt.show()\n",
    "    \n",
    "    # PLot the point on error function graph related to inputs.\n",
    "    errors = y_pred - data['y']\n",
    "    sse = np.sum(errors ** 2)\n",
    "    plt.scatter(m, sse)\n",
    "    \n",
    "    # Plot tangent line for point above.\n",
    "    x_ = np.linspace(-1, 1, 11)\n",
    "    \n",
    "    # Why does this need to be multiplied by ten???\n",
    "    dx = sum(2 * errors) * 10\n",
    "    y_ = dx * (x_ - m) + sse\n",
    "    plt.plot(x_, y_, color='r')\n",
    "    \n",
    "    # Plot error function.\n",
    "    slopes = np.linspace(-1, 1, 11)\n",
    "    sses = []\n",
    "    for slope in slopes:\n",
    "        y_pred = slope * data['x'] + b\n",
    "        error = data['y'] - y_pred\n",
    "        sse = np.sum(error ** 2)\n",
    "        sses.append(sse)\n",
    "\n",
    "    plt.plot(slopes, sses, color='black')\n",
    "    plt.title(f'Intercept = {b}')\n",
    "    plt.xlabel('Slope')\n",
    "    plt.ylabel('Sum of squared error');\n",
    "\n",
    "interact(linear_regression,\n",
    "         m=(-1, 1, .05),\n",
    "         b=(0, 10, 1),\n",
    "         data=fixed(data));\n"
   ]
  },
  {
   "cell_type": "code",
   "execution_count": 596,
   "metadata": {},
   "outputs": [
    {
     "data": {
      "application/vnd.jupyter.widget-view+json": {
       "model_id": "f80fdcfb73154372893a61f66c577313",
       "version_major": 2,
       "version_minor": 0
      },
      "text/plain": [
       "interactive(children=(FloatSlider(value=-0.1, description='m', max=1.0, min=-1.0, step=0.05), IntSlider(value=…"
      ]
     },
     "metadata": {},
     "output_type": "display_data"
    }
   ],
   "source": [
    "interact(linear_regression,\n",
    "         m=(-1, 1, .05),\n",
    "         b=(0, 10, 1),\n",
    "         data=fixed(data));"
   ]
  },
  {
   "cell_type": "code",
   "execution_count": 590,
   "metadata": {},
   "outputs": [],
   "source": [
    "def descent(theta, alpha, x, y):\n",
    "    intercept = theta[0]\n",
    "    slope = theta[1]\n",
    "    \n",
    "    def hypothesis(x):\n",
    "        return slope * x + intercept\n",
    "    \n",
    "    error = hypothesis(x) - y\n",
    "    \n",
    "    part_dx_intercept = np.mean(error)\n",
    "    part_dx_slope = np.mean(error * x)\n",
    "    \n",
    "    intercept = intercept - alpha * part_dx_intercept\n",
    "    slope = slope - alpha * part_dx_slope\n",
    "    \n",
    "    theta = intercept, slope\n",
    "    return theta"
   ]
  },
  {
   "cell_type": "code",
   "execution_count": 503,
   "metadata": {},
   "outputs": [],
   "source": [
    "def gradient_descent(iterations=200,\n",
    "                     learning_rate=0.1,\n",
    "                     data=data):\n",
    "\n",
    "    sns.relplot('x', 'y', data=data)\n",
    "    theta = [np.random.uniform(), np.random.uniform()]\n",
    "    for _ in range(iterations):\n",
    "        theta = descent(theta, learning_rate, data['x'], data['y'])\n",
    "        \n",
    "    intercept, slope = theta\n",
    "    print(f'y = {slope} * x + {intercept:.2f}')\n",
    "    \n",
    "    y_pred = slope * data['x'] + intercept\n",
    "    plt.plot(data['x'], y_pred);"
   ]
  },
  {
   "cell_type": "code",
   "execution_count": 20,
   "metadata": {},
   "outputs": [
    {
     "data": {
      "application/vnd.jupyter.widget-view+json": {
       "model_id": "79cce4d51d064709bf466890c1d278d8",
       "version_major": 2,
       "version_minor": 0
      },
      "text/plain": [
       "interactive(children=(IntSlider(value=200, description='iterations', max=10000, min=100, step=100), FloatSlide…"
      ]
     },
     "metadata": {},
     "output_type": "display_data"
    },
    {
     "data": {
      "text/plain": [
       "<function __main__.gradient_descent(iterations=200, learning_rate=0.1, data=   dataset     x      y\n",
       "0        I  10.0   8.04\n",
       "1        I   8.0   6.95\n",
       "2        I  13.0   7.58\n",
       "3        I   9.0   8.81\n",
       "4        I  11.0   8.33\n",
       "5        I  14.0   9.96\n",
       "6        I   6.0   7.24\n",
       "7        I   4.0   4.26\n",
       "8        I  12.0  10.84\n",
       "9        I   7.0   4.82\n",
       "10       I   5.0   5.68)>"
      ]
     },
     "execution_count": 20,
     "metadata": {},
     "output_type": "execute_result"
    }
   ],
   "source": [
    "interact(gradient_descent,\n",
    "         iterations=(100, 10000, 100),\n",
    "         learning_rate=(0.001, .1, 0.0001),\n",
    "         data=fixed(data))"
   ]
  },
  {
   "cell_type": "code",
   "execution_count": null,
   "metadata": {},
   "outputs": [],
   "source": []
  }
 ],
 "metadata": {
  "kernelspec": {
   "display_name": "Python 3",
   "language": "python",
   "name": "python3"
  },
  "language_info": {
   "codemirror_mode": {
    "name": "ipython",
    "version": 3
   },
   "file_extension": ".py",
   "mimetype": "text/x-python",
   "name": "python",
   "nbconvert_exporter": "python",
   "pygments_lexer": "ipython3",
   "version": "3.6.8"
  }
 },
 "nbformat": 4,
 "nbformat_minor": 2
}
