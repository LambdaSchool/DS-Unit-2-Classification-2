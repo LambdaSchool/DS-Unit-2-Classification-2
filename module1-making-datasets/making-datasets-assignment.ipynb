{
 "cells": [
  {
   "cell_type": "code",
   "execution_count": 16,
   "metadata": {},
   "outputs": [
    {
     "data": {
      "application/vnd.jupyter.widget-view+json": {
       "model_id": "f9e1dd480e90424a850940580bffb4ce",
       "version_major": 2,
       "version_minor": 0
      },
      "text/plain": [
       "HBox(children=(IntProgress(value=0, max=17), HTML(value='')))"
      ]
     },
     "metadata": {},
     "output_type": "display_data"
    },
    {
     "name": "stdout",
     "output_type": "stream",
     "text": [
      "\n"
     ]
    }
   ],
   "source": [
    "from glob import glob\n",
    "import pandas as pd\n",
    "from tqdm import tnrange, tqdm_notebook\n",
    "\n",
    "current = pd.read_csv('primaryMarketNotes_browseNotes_1-RETAIL.csv')\n",
    "\n",
    "files = glob('LoanStats*.csv.zip')\n",
    "\n",
    "def a_to_d_done(df):\n",
    "    a_to_d = df['grade'].isin(['A', 'B', 'C', 'D'])\n",
    "    done = df['loan_status'].isin(['Fully Paid', 'Charged Off'])\n",
    "    return a_to_d & done\n",
    "\n",
    "dfs = (pd.read_csv(file, skiprows=1, skipfooter=2, engine='python')\n",
    "       .where(a_to_d_done)\n",
    "       .dropna(subset=['grade', 'loan_status'])\n",
    "       for file in tqdm_notebook(files))\n",
    "\n",
    "df = pd.concat(dfs)"
   ]
  },
  {
   "cell_type": "code",
   "execution_count": 18,
   "metadata": {},
   "outputs": [
    {
     "data": {
      "text/plain": [
       "(1283340, 144)"
      ]
     },
     "execution_count": 18,
     "metadata": {},
     "output_type": "execute_result"
    }
   ],
   "source": [
    "df.shape"
   ]
  },
  {
   "cell_type": "code",
   "execution_count": 21,
   "metadata": {},
   "outputs": [
    {
     "name": "stderr",
     "output_type": "stream",
     "text": [
      "/Users/dwightchurchill/anaconda3/lib/python3.7/site-packages/sklearn/model_selection/_split.py:2179: FutureWarning: From version 0.21, test_size will always complement train_size unless both are specified.\n",
      "  FutureWarning)\n"
     ]
    }
   ],
   "source": [
    "from sklearn.model_selection import train_test_split\n",
    "\n",
    "historical, _ = train_test_split(df.copy(), train_size=0.30, \n",
    "                             stratify=df['loan_status'])"
   ]
  },
  {
   "cell_type": "code",
   "execution_count": 22,
   "metadata": {},
   "outputs": [],
   "source": [
    "historical.to_csv('historical.csv', index=False)"
   ]
  },
  {
   "cell_type": "code",
   "execution_count": 23,
   "metadata": {},
   "outputs": [
    {
     "data": {
      "text/plain": [
       "(385002, 144)"
      ]
     },
     "execution_count": 23,
     "metadata": {},
     "output_type": "execute_result"
    }
   ],
   "source": [
    "historical.shape"
   ]
  },
  {
   "cell_type": "code",
   "execution_count": 25,
   "metadata": {},
   "outputs": [],
   "source": [
    "common_cols = set(historical.columns) & set(current.columns)\n",
    "just_historical = set(historical.columns) - set(current.columns)\n",
    "just_current = set(current.columns) - set(historical.columns)"
   ]
  },
  {
   "cell_type": "code",
   "execution_count": 30,
   "metadata": {},
   "outputs": [
    {
     "data": {
      "text/plain": [
       "(102, 42, 20)"
      ]
     },
     "execution_count": 30,
     "metadata": {},
     "output_type": "execute_result"
    }
   ],
   "source": [
    "len(common_cols), len(just_historical), len(just_current)"
   ]
  },
  {
   "cell_type": "code",
   "execution_count": 48,
   "metadata": {},
   "outputs": [
    {
     "data": {
      "text/plain": [
       "({'collection_recovery_fee',\n",
       "  'debt_settlement_flag',\n",
       "  'debt_settlement_flag_date',\n",
       "  'deferral_term',\n",
       "  'funded_amnt_inv',\n",
       "  'hardship_amount',\n",
       "  'hardship_dpd',\n",
       "  'hardship_end_date',\n",
       "  'hardship_flag',\n",
       "  'hardship_last_payment_amount',\n",
       "  'hardship_length',\n",
       "  'hardship_loan_status',\n",
       "  'hardship_payoff_balance_amount',\n",
       "  'hardship_reason',\n",
       "  'hardship_start_date',\n",
       "  'hardship_status',\n",
       "  'hardship_type',\n",
       "  'issue_d',\n",
       "  'last_credit_pull_d',\n",
       "  'last_pymnt_amnt',\n",
       "  'last_pymnt_d',\n",
       "  'loan_status',\n",
       "  'next_pymnt_d',\n",
       "  'orig_projected_additional_accrued_interest',\n",
       "  'out_prncp',\n",
       "  'out_prncp_inv',\n",
       "  'payment_plan_start_date',\n",
       "  'policy_code',\n",
       "  'pymnt_plan',\n",
       "  'recoveries',\n",
       "  'settlement_amount',\n",
       "  'settlement_date',\n",
       "  'settlement_percentage',\n",
       "  'settlement_status',\n",
       "  'settlement_term',\n",
       "  'total_pymnt',\n",
       "  'total_pymnt_inv',\n",
       "  'total_rec_int',\n",
       "  'total_rec_late_fee',\n",
       "  'total_rec_prncp',\n",
       "  'verification_status',\n",
       "  'verification_status_joint'},\n",
       " {'accept_d',\n",
       "  'credit_pull_d',\n",
       "  'disbursement_method',\n",
       "  'effective_int_rate',\n",
       "  'exp_d',\n",
       "  'exp_default_rate',\n",
       "  'fico_range_high',\n",
       "  'fico_range_low',\n",
       "  'housing_payment',\n",
       "  'ils_exp_d',\n",
       "  'is_inc_v',\n",
       "  'list_d',\n",
       "  'msa',\n",
       "  'mtg_payment',\n",
       "  'review_status',\n",
       "  'review_status_d',\n",
       "  'sec_app_fico_range_high',\n",
       "  'sec_app_fico_range_low',\n",
       "  'service_fee_rate',\n",
       "  'verified_status_joint'})"
      ]
     },
     "execution_count": 48,
     "metadata": {},
     "output_type": "execute_result"
    }
   ],
   "source": [
    "just_historical, just_current"
   ]
  },
  {
   "cell_type": "code",
   "execution_count": 47,
   "metadata": {},
   "outputs": [
    {
     "data": {
      "text/plain": [
       "48685       0.00\n",
       "21883       0.00\n",
       "72405       0.00\n",
       "17028       0.00\n",
       "184826      0.00\n",
       "248030      0.00\n",
       "225866      0.00\n",
       "54388       0.00\n",
       "15840       0.00\n",
       "35270       0.00\n",
       "41646       0.00\n",
       "346483      0.00\n",
       "59032       0.00\n",
       "52960       0.00\n",
       "10455       0.00\n",
       "28349       0.00\n",
       "45816       0.00\n",
       "22813       0.00\n",
       "17725       0.00\n",
       "62660       0.00\n",
       "30952       0.00\n",
       "59368      17.60\n",
       "30178       0.00\n",
       "94859       0.00\n",
       "49342       0.00\n",
       "56376       0.00\n",
       "142267      0.00\n",
       "12694       0.00\n",
       "138722      0.00\n",
       "25486       0.00\n",
       "           ...  \n",
       "45082       0.00\n",
       "115348      0.00\n",
       "197640      0.00\n",
       "15551       0.00\n",
       "117558      0.00\n",
       "92453       0.00\n",
       "14796     229.92\n",
       "416747      0.00\n",
       "169768      0.00\n",
       "152864      0.00\n",
       "67246       0.00\n",
       "335029      0.00\n",
       "22999       0.00\n",
       "72533       0.00\n",
       "80090      23.01\n",
       "20800       0.00\n",
       "34205       0.00\n",
       "107614      0.00\n",
       "74292      17.82\n",
       "271954     15.00\n",
       "111869      0.00\n",
       "275598      0.00\n",
       "34720       0.00\n",
       "218949      0.00\n",
       "114772      0.00\n",
       "25125       0.00\n",
       "82950      44.22\n",
       "107137      0.00\n",
       "103907      0.00\n",
       "12856       0.00\n",
       "Name: total_rec_late_fee, Length: 385002, dtype: float64"
      ]
     },
     "execution_count": 47,
     "metadata": {},
     "output_type": "execute_result"
    }
   ],
   "source": [
    "historical['']"
   ]
  },
  {
   "cell_type": "code",
   "execution_count": 79,
   "metadata": {},
   "outputs": [
    {
     "data": {
      "text/plain": [
       "[None, None, None, None]"
      ]
     },
     "execution_count": 79,
     "metadata": {},
     "output_type": "execute_result"
    }
   ],
   "source": [
    "features = list(common_cols)\n",
    "new_feat = ['issue_d', 'total_rec_int', 'total_rec_late_fee', 'total_rec_prncp']\n",
    "[features.append(x) for x in new_feat]"
   ]
  },
  {
   "cell_type": "code",
   "execution_count": null,
   "metadata": {},
   "outputs": [],
   "source": []
  }
 ],
 "metadata": {
  "kernelspec": {
   "display_name": "Python 3",
   "language": "python",
   "name": "python3"
  },
  "language_info": {
   "codemirror_mode": {
    "name": "ipython",
    "version": 3
   },
   "file_extension": ".py",
   "mimetype": "text/x-python",
   "name": "python",
   "nbconvert_exporter": "python",
   "pygments_lexer": "ipython3",
   "version": "3.7.3"
  }
 },
 "nbformat": 4,
 "nbformat_minor": 2
}
